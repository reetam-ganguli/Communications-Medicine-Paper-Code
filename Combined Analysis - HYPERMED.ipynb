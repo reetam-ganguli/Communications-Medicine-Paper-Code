{
 "cells": [
  {
   "cell_type": "markdown",
   "id": "dc719c2f",
   "metadata": {},
   "source": [
    "- Train models on Combined cohort\n",
    "- Test models on Trans test set (ignore the Combined test set created)\n",
    "<br><br>\n",
    "- 0 - cisgender\n",
    "- 1 - transgender"
   ]
  },
  {
   "cell_type": "markdown",
   "id": "2c5397d7",
   "metadata": {},
   "source": [
    "# Import Modules"
   ]
  },
  {
   "cell_type": "code",
   "execution_count": 1,
   "id": "05a017e1",
   "metadata": {},
   "outputs": [],
   "source": [
    "import pandas as pd\n",
    "import numpy as np\n",
    "import matplotlib.pyplot as plt\n",
    "import json\n",
    "import pickle\n",
    "from sklearn.model_selection import train_test_split\n",
    "from sklearn.linear_model import LogisticRegression\n",
    "from sklearn.ensemble import RandomForestClassifier\n",
    "from xgboost import XGBClassifier\n",
    "from sklearn.metrics import roc_curve, roc_auc_score, confusion_matrix, precision_recall_curve, auc, classification_report, accuracy_score, f1_score, matthews_corrcoef\n",
    "from mlxtend.evaluate import paired_ttest_5x2cv\n",
    "from pprint import pprint\n",
    "from IPython.core.interactiveshell import InteractiveShell\n",
    "InteractiveShell.ast_node_interactivity = 'all'"
   ]
  },
  {
   "cell_type": "markdown",
   "id": "54d85d7f",
   "metadata": {},
   "source": [
    "# Read and Preview Data\n",
    "- Entire dataset shape is (626121, 53)\n",
    "- Transgender test set shape is (490, 53) - came from 'Trans Analysis - HYPERMED'\n",
    "- Dataset showed decimal values which were probably produced by multiple imputation - these should be rounded"
   ]
  },
  {
   "cell_type": "code",
   "execution_count": 2,
   "id": "0b21b59a",
   "metadata": {},
   "outputs": [
    {
     "data": {
      "text/plain": [
       "(626121, 53)"
      ]
     },
     "execution_count": 2,
     "metadata": {},
     "output_type": "execute_result"
    },
    {
     "data": {
      "text/html": [
       "<div>\n",
       "<style scoped>\n",
       "    .dataframe tbody tr th:only-of-type {\n",
       "        vertical-align: middle;\n",
       "    }\n",
       "\n",
       "    .dataframe tbody tr th {\n",
       "        vertical-align: top;\n",
       "    }\n",
       "\n",
       "    .dataframe thead th {\n",
       "        text-align: right;\n",
       "    }\n",
       "</style>\n",
       "<table border=\"1\" class=\"dataframe\">\n",
       "  <thead>\n",
       "    <tr style=\"text-align: right;\">\n",
       "      <th></th>\n",
       "      <th>INOUT</th>\n",
       "      <th>Age</th>\n",
       "      <th>ANESTHES</th>\n",
       "      <th>HEIGHT</th>\n",
       "      <th>WEIGHT</th>\n",
       "      <th>DIABETES</th>\n",
       "      <th>SMOKE</th>\n",
       "      <th>DYSPNEA</th>\n",
       "      <th>VENTILAT</th>\n",
       "      <th>HXCOPD</th>\n",
       "      <th>...</th>\n",
       "      <th>CNSCVA</th>\n",
       "      <th>CDARREST</th>\n",
       "      <th>CDMI</th>\n",
       "      <th>OTHBLEED</th>\n",
       "      <th>OTHDVT</th>\n",
       "      <th>OTHSYSEP</th>\n",
       "      <th>OTHSESHOCK</th>\n",
       "      <th>RETURNOR</th>\n",
       "      <th>DOptoDis</th>\n",
       "      <th>SEX</th>\n",
       "    </tr>\n",
       "  </thead>\n",
       "  <tbody>\n",
       "    <tr>\n",
       "      <th>0</th>\n",
       "      <td>0.0</td>\n",
       "      <td>29.0</td>\n",
       "      <td>1.0</td>\n",
       "      <td>67.0</td>\n",
       "      <td>275.0</td>\n",
       "      <td>1.0</td>\n",
       "      <td>0.0</td>\n",
       "      <td>0.0</td>\n",
       "      <td>0.0</td>\n",
       "      <td>0.0</td>\n",
       "      <td>...</td>\n",
       "      <td>0</td>\n",
       "      <td>0</td>\n",
       "      <td>0</td>\n",
       "      <td>0</td>\n",
       "      <td>0</td>\n",
       "      <td>0</td>\n",
       "      <td>0.0</td>\n",
       "      <td>0.0</td>\n",
       "      <td>0.0</td>\n",
       "      <td>0</td>\n",
       "    </tr>\n",
       "    <tr>\n",
       "      <th>1</th>\n",
       "      <td>1.0</td>\n",
       "      <td>54.0</td>\n",
       "      <td>1.0</td>\n",
       "      <td>63.0</td>\n",
       "      <td>140.0</td>\n",
       "      <td>0.0</td>\n",
       "      <td>0.0</td>\n",
       "      <td>0.0</td>\n",
       "      <td>0.0</td>\n",
       "      <td>0.0</td>\n",
       "      <td>...</td>\n",
       "      <td>0</td>\n",
       "      <td>0</td>\n",
       "      <td>0</td>\n",
       "      <td>0</td>\n",
       "      <td>0</td>\n",
       "      <td>1</td>\n",
       "      <td>0.0</td>\n",
       "      <td>0.0</td>\n",
       "      <td>3.0</td>\n",
       "      <td>0</td>\n",
       "    </tr>\n",
       "    <tr>\n",
       "      <th>2</th>\n",
       "      <td>1.0</td>\n",
       "      <td>64.0</td>\n",
       "      <td>1.0</td>\n",
       "      <td>64.0</td>\n",
       "      <td>307.0</td>\n",
       "      <td>0.0</td>\n",
       "      <td>0.0</td>\n",
       "      <td>0.0</td>\n",
       "      <td>0.0</td>\n",
       "      <td>0.0</td>\n",
       "      <td>...</td>\n",
       "      <td>0</td>\n",
       "      <td>0</td>\n",
       "      <td>0</td>\n",
       "      <td>0</td>\n",
       "      <td>0</td>\n",
       "      <td>0</td>\n",
       "      <td>0.0</td>\n",
       "      <td>0.0</td>\n",
       "      <td>4.0</td>\n",
       "      <td>0</td>\n",
       "    </tr>\n",
       "    <tr>\n",
       "      <th>3</th>\n",
       "      <td>0.0</td>\n",
       "      <td>59.0</td>\n",
       "      <td>1.0</td>\n",
       "      <td>65.0</td>\n",
       "      <td>227.0</td>\n",
       "      <td>0.0</td>\n",
       "      <td>0.0</td>\n",
       "      <td>0.0</td>\n",
       "      <td>0.0</td>\n",
       "      <td>0.0</td>\n",
       "      <td>...</td>\n",
       "      <td>0</td>\n",
       "      <td>0</td>\n",
       "      <td>0</td>\n",
       "      <td>0</td>\n",
       "      <td>0</td>\n",
       "      <td>0</td>\n",
       "      <td>0.0</td>\n",
       "      <td>0.0</td>\n",
       "      <td>0.0</td>\n",
       "      <td>0</td>\n",
       "    </tr>\n",
       "    <tr>\n",
       "      <th>4</th>\n",
       "      <td>1.0</td>\n",
       "      <td>62.0</td>\n",
       "      <td>1.0</td>\n",
       "      <td>69.0</td>\n",
       "      <td>201.0</td>\n",
       "      <td>0.0</td>\n",
       "      <td>0.0</td>\n",
       "      <td>0.0</td>\n",
       "      <td>0.0</td>\n",
       "      <td>0.0</td>\n",
       "      <td>...</td>\n",
       "      <td>0</td>\n",
       "      <td>0</td>\n",
       "      <td>0</td>\n",
       "      <td>0</td>\n",
       "      <td>0</td>\n",
       "      <td>0</td>\n",
       "      <td>0.0</td>\n",
       "      <td>0.0</td>\n",
       "      <td>3.0</td>\n",
       "      <td>0</td>\n",
       "    </tr>\n",
       "  </tbody>\n",
       "</table>\n",
       "<p>5 rows × 53 columns</p>\n",
       "</div>"
      ],
      "text/plain": [
       "   INOUT   Age  ANESTHES  HEIGHT  WEIGHT  DIABETES  SMOKE  DYSPNEA  VENTILAT  \\\n",
       "0    0.0  29.0       1.0    67.0   275.0       1.0    0.0      0.0       0.0   \n",
       "1    1.0  54.0       1.0    63.0   140.0       0.0    0.0      0.0       0.0   \n",
       "2    1.0  64.0       1.0    64.0   307.0       0.0    0.0      0.0       0.0   \n",
       "3    0.0  59.0       1.0    65.0   227.0       0.0    0.0      0.0       0.0   \n",
       "4    1.0  62.0       1.0    69.0   201.0       0.0    0.0      0.0       0.0   \n",
       "\n",
       "   HXCOPD  ...  CNSCVA  CDARREST  CDMI  OTHBLEED  OTHDVT  OTHSYSEP  \\\n",
       "0     0.0  ...       0         0     0         0       0         0   \n",
       "1     0.0  ...       0         0     0         0       0         1   \n",
       "2     0.0  ...       0         0     0         0       0         0   \n",
       "3     0.0  ...       0         0     0         0       0         0   \n",
       "4     0.0  ...       0         0     0         0       0         0   \n",
       "\n",
       "   OTHSESHOCK  RETURNOR  DOptoDis  SEX  \n",
       "0         0.0       0.0       0.0    0  \n",
       "1         0.0       0.0       3.0    0  \n",
       "2         0.0       0.0       4.0    0  \n",
       "3         0.0       0.0       0.0    0  \n",
       "4         0.0       0.0       3.0    0  \n",
       "\n",
       "[5 rows x 53 columns]"
      ]
     },
     "execution_count": 2,
     "metadata": {},
     "output_type": "execute_result"
    }
   ],
   "source": [
    "path = 'FINAL w surgspec dropped obgynsurgeries for transgender analysis 11-16.csv'\n",
    "df = pd.read_csv(path)\n",
    "df.drop(df.columns[[0, 1]], axis=1, inplace=True)\n",
    "df.shape\n",
    "df.head()"
   ]
  },
  {
   "cell_type": "code",
   "execution_count": 3,
   "id": "f1dba686",
   "metadata": {},
   "outputs": [
    {
     "data": {
      "text/plain": [
       "(490, 53)"
      ]
     },
     "execution_count": 3,
     "metadata": {},
     "output_type": "execute_result"
    },
    {
     "data": {
      "text/html": [
       "<div>\n",
       "<style scoped>\n",
       "    .dataframe tbody tr th:only-of-type {\n",
       "        vertical-align: middle;\n",
       "    }\n",
       "\n",
       "    .dataframe tbody tr th {\n",
       "        vertical-align: top;\n",
       "    }\n",
       "\n",
       "    .dataframe thead th {\n",
       "        text-align: right;\n",
       "    }\n",
       "</style>\n",
       "<table border=\"1\" class=\"dataframe\">\n",
       "  <thead>\n",
       "    <tr style=\"text-align: right;\">\n",
       "      <th></th>\n",
       "      <th>INOUT</th>\n",
       "      <th>Age</th>\n",
       "      <th>ANESTHES</th>\n",
       "      <th>HEIGHT</th>\n",
       "      <th>WEIGHT</th>\n",
       "      <th>DIABETES</th>\n",
       "      <th>SMOKE</th>\n",
       "      <th>DYSPNEA</th>\n",
       "      <th>VENTILAT</th>\n",
       "      <th>HXCOPD</th>\n",
       "      <th>...</th>\n",
       "      <th>CDARREST</th>\n",
       "      <th>CDMI</th>\n",
       "      <th>OTHBLEED</th>\n",
       "      <th>OTHDVT</th>\n",
       "      <th>OTHSYSEP</th>\n",
       "      <th>OTHSESHOCK</th>\n",
       "      <th>RETURNOR</th>\n",
       "      <th>DOptoDis</th>\n",
       "      <th>SEX</th>\n",
       "      <th>HYPERMED</th>\n",
       "    </tr>\n",
       "  </thead>\n",
       "  <tbody>\n",
       "    <tr>\n",
       "      <th>0</th>\n",
       "      <td>1.0</td>\n",
       "      <td>56.0</td>\n",
       "      <td>1.0</td>\n",
       "      <td>61.0</td>\n",
       "      <td>164.0</td>\n",
       "      <td>0.0</td>\n",
       "      <td>1.0</td>\n",
       "      <td>1.0</td>\n",
       "      <td>0.0</td>\n",
       "      <td>1.0</td>\n",
       "      <td>...</td>\n",
       "      <td>0</td>\n",
       "      <td>0</td>\n",
       "      <td>0</td>\n",
       "      <td>0</td>\n",
       "      <td>0</td>\n",
       "      <td>-0.0</td>\n",
       "      <td>0.0</td>\n",
       "      <td>3.0</td>\n",
       "      <td>1</td>\n",
       "      <td>0.0</td>\n",
       "    </tr>\n",
       "    <tr>\n",
       "      <th>1</th>\n",
       "      <td>0.0</td>\n",
       "      <td>50.0</td>\n",
       "      <td>1.0</td>\n",
       "      <td>68.0</td>\n",
       "      <td>190.0</td>\n",
       "      <td>0.0</td>\n",
       "      <td>0.0</td>\n",
       "      <td>0.0</td>\n",
       "      <td>0.0</td>\n",
       "      <td>0.0</td>\n",
       "      <td>...</td>\n",
       "      <td>0</td>\n",
       "      <td>0</td>\n",
       "      <td>0</td>\n",
       "      <td>0</td>\n",
       "      <td>0</td>\n",
       "      <td>0.0</td>\n",
       "      <td>0.0</td>\n",
       "      <td>1.0</td>\n",
       "      <td>1</td>\n",
       "      <td>0.0</td>\n",
       "    </tr>\n",
       "    <tr>\n",
       "      <th>2</th>\n",
       "      <td>1.0</td>\n",
       "      <td>32.0</td>\n",
       "      <td>1.0</td>\n",
       "      <td>63.0</td>\n",
       "      <td>171.0</td>\n",
       "      <td>0.0</td>\n",
       "      <td>0.0</td>\n",
       "      <td>0.0</td>\n",
       "      <td>0.0</td>\n",
       "      <td>0.0</td>\n",
       "      <td>...</td>\n",
       "      <td>0</td>\n",
       "      <td>0</td>\n",
       "      <td>0</td>\n",
       "      <td>0</td>\n",
       "      <td>0</td>\n",
       "      <td>0.0</td>\n",
       "      <td>0.0</td>\n",
       "      <td>1.0</td>\n",
       "      <td>1</td>\n",
       "      <td>0.0</td>\n",
       "    </tr>\n",
       "    <tr>\n",
       "      <th>3</th>\n",
       "      <td>1.0</td>\n",
       "      <td>53.0</td>\n",
       "      <td>1.0</td>\n",
       "      <td>64.0</td>\n",
       "      <td>212.0</td>\n",
       "      <td>0.0</td>\n",
       "      <td>0.0</td>\n",
       "      <td>0.0</td>\n",
       "      <td>0.0</td>\n",
       "      <td>0.0</td>\n",
       "      <td>...</td>\n",
       "      <td>0</td>\n",
       "      <td>0</td>\n",
       "      <td>0</td>\n",
       "      <td>0</td>\n",
       "      <td>0</td>\n",
       "      <td>0.0</td>\n",
       "      <td>0.0</td>\n",
       "      <td>3.0</td>\n",
       "      <td>1</td>\n",
       "      <td>0.0</td>\n",
       "    </tr>\n",
       "    <tr>\n",
       "      <th>4</th>\n",
       "      <td>0.0</td>\n",
       "      <td>38.0</td>\n",
       "      <td>1.0</td>\n",
       "      <td>66.0</td>\n",
       "      <td>224.0</td>\n",
       "      <td>0.0</td>\n",
       "      <td>0.0</td>\n",
       "      <td>0.0</td>\n",
       "      <td>0.0</td>\n",
       "      <td>0.0</td>\n",
       "      <td>...</td>\n",
       "      <td>0</td>\n",
       "      <td>0</td>\n",
       "      <td>0</td>\n",
       "      <td>0</td>\n",
       "      <td>0</td>\n",
       "      <td>0.0</td>\n",
       "      <td>0.0</td>\n",
       "      <td>1.0</td>\n",
       "      <td>1</td>\n",
       "      <td>0.0</td>\n",
       "    </tr>\n",
       "  </tbody>\n",
       "</table>\n",
       "<p>5 rows × 53 columns</p>\n",
       "</div>"
      ],
      "text/plain": [
       "   INOUT   Age  ANESTHES  HEIGHT  WEIGHT  DIABETES  SMOKE  DYSPNEA  VENTILAT  \\\n",
       "0    1.0  56.0       1.0    61.0   164.0       0.0    1.0      1.0       0.0   \n",
       "1    0.0  50.0       1.0    68.0   190.0       0.0    0.0      0.0       0.0   \n",
       "2    1.0  32.0       1.0    63.0   171.0       0.0    0.0      0.0       0.0   \n",
       "3    1.0  53.0       1.0    64.0   212.0       0.0    0.0      0.0       0.0   \n",
       "4    0.0  38.0       1.0    66.0   224.0       0.0    0.0      0.0       0.0   \n",
       "\n",
       "   HXCOPD  ...  CDARREST  CDMI  OTHBLEED  OTHDVT  OTHSYSEP  OTHSESHOCK  \\\n",
       "0     1.0  ...         0     0         0       0         0        -0.0   \n",
       "1     0.0  ...         0     0         0       0         0         0.0   \n",
       "2     0.0  ...         0     0         0       0         0         0.0   \n",
       "3     0.0  ...         0     0         0       0         0         0.0   \n",
       "4     0.0  ...         0     0         0       0         0         0.0   \n",
       "\n",
       "   RETURNOR  DOptoDis  SEX  HYPERMED  \n",
       "0       0.0       3.0    1       0.0  \n",
       "1       0.0       1.0    1       0.0  \n",
       "2       0.0       1.0    1       0.0  \n",
       "3       0.0       3.0    1       0.0  \n",
       "4       0.0       1.0    1       0.0  \n",
       "\n",
       "[5 rows x 53 columns]"
      ]
     },
     "execution_count": 3,
     "metadata": {},
     "output_type": "execute_result"
    }
   ],
   "source": [
    "trans_test = pd.read_csv('trans_test_set.csv')\n",
    "trans_test.shape\n",
    "trans_test.head()"
   ]
  },
  {
   "cell_type": "markdown",
   "id": "a90632eb",
   "metadata": {},
   "source": [
    "# Preprocess Data\n",
    "- Round decimal values that probably came from multiple imputation to the nearest integer\n",
    "- Remove any rows with negative values after rounding\n",
    "- Drop rows that contained negative values after the rounding\n",
    "- All data from the Trans test set were from the Combined cohort. Remove all rows of the Trans test set from the Combined cohort to prevent data leakage. \n",
    "- The preprocessed dataframe 'df_dedup' contains the transgender patients that were in the Trans training set and all cisgender patients"
   ]
  },
  {
   "cell_type": "code",
   "execution_count": 4,
   "id": "4a4656f7",
   "metadata": {},
   "outputs": [
    {
     "name": "stderr",
     "output_type": "stream",
     "text": [
      "C:\\Users\\jorda\\miniconda3\\envs\\jma-trans\\lib\\site-packages\\pandas\\core\\frame.py:4174: SettingWithCopyWarning: \n",
      "A value is trying to be set on a copy of a slice from a DataFrame\n",
      "\n",
      "See the caveats in the documentation: https://pandas.pydata.org/pandas-docs/stable/user_guide/indexing.html#returning-a-view-versus-a-copy\n",
      "  errors=errors,\n"
     ]
    },
    {
     "data": {
      "text/plain": [
       "(625610, 53)"
      ]
     },
     "execution_count": 4,
     "metadata": {},
     "output_type": "execute_result"
    }
   ],
   "source": [
    "df = df.round()\n",
    "df[df < 0] = np.NaN\n",
    "df.dropna(inplace=True)\n",
    "\n",
    "merged = pd.merge(df, trans_test, how='outer', indicator=True)\n",
    "df_dedup = merged.loc[merged._merge=='left_only']\n",
    "df_dedup.drop(columns=['_merge'], inplace=True)\n",
    "df_dedup.shape"
   ]
  },
  {
   "cell_type": "markdown",
   "id": "0d2c6037",
   "metadata": {},
   "source": [
    "Note the small amount of transgender patients in the data. There will be a smaller amount that the models will be trained on after the train test split."
   ]
  },
  {
   "cell_type": "code",
   "execution_count": 5,
   "id": "01a82e4e",
   "metadata": {},
   "outputs": [
    {
     "data": {
      "text/plain": [
       "0    0.997655\n",
       "1    0.002345\n",
       "Name: SEX, dtype: float64"
      ]
     },
     "execution_count": 5,
     "metadata": {},
     "output_type": "execute_result"
    }
   ],
   "source": [
    "df_dedup['SEX'].value_counts(normalize=True)"
   ]
  },
  {
   "cell_type": "markdown",
   "id": "bae7c13e",
   "metadata": {},
   "source": [
    "# Preparation for Training Phase\n",
    "- Helper functions for training and evaluating models\n",
    "- Default 75-25 train test split\n",
    "- y = HYPERMED is fairly imbalanced (~73% negative)"
   ]
  },
  {
   "cell_type": "code",
   "execution_count": 6,
   "id": "b6d204c7",
   "metadata": {},
   "outputs": [],
   "source": [
    "# returns the parts for ROC curve\n",
    "def get_roc_curve_parts(clf):\n",
    "    y_predict_proba = clf.predict_proba(trans_test.drop(columns='HYPERMED'))[::,1]\n",
    "    fpr, tpr, thresholds = roc_curve(trans_test['HYPERMED'], y_predict_proba)\n",
    "    roc_auc = roc_auc_score(trans_test['HYPERMED'], y_predict_proba)\n",
    "    return y_predict_proba, fpr, tpr, roc_auc"
   ]
  },
  {
   "cell_type": "code",
   "execution_count": 7,
   "id": "4dfe1b94",
   "metadata": {},
   "outputs": [],
   "source": [
    "# plots ROC curve\n",
    "def plot_roc_curve(fpr, tpr, roc_auc):\n",
    "    plt.plot(fpr, tpr, label='ROC AUC='+'{:.2f}'.format(roc_auc))\n",
    "    plt.title('ROC Curve')\n",
    "    plt.ylabel('True Positive Rate')\n",
    "    plt.xlabel('False Positive Rate')\n",
    "    plt.legend(loc=4)\n",
    "    plt.show()"
   ]
  },
  {
   "cell_type": "code",
   "execution_count": 8,
   "id": "d4809d91",
   "metadata": {},
   "outputs": [],
   "source": [
    "# returns the 95 % confidence interval and parts of it, given the metric to be evaluated\n",
    "def get_conf_int(metric, method, y_true, y_pred):\n",
    "    n_bootstraps = 1000\n",
    "    rng_seed = 42\n",
    "    bootstrapped_scores = []\n",
    "    rng = np.random.RandomState(rng_seed)\n",
    "    \n",
    "    for i in range(n_bootstraps):\n",
    "        # bootstrap by sampling with replacement on the prediction indices\n",
    "        indices = rng.randint(0, len(y_pred), len(y_pred))\n",
    "        if len(np.unique(y_true[indices])) < 2:\n",
    "            # We need at least one positive and one negative sample for ROC AUC\n",
    "            # to be defined: reject the sample\n",
    "            continue\n",
    "        if method == f1_score:\n",
    "            score = method(y_true[indices], y_pred[indices], average='macro')\n",
    "        else:\n",
    "            score = method(y_true[indices], y_pred[indices])\n",
    "        bootstrapped_scores.append(score)\n",
    "#     print(\"Bootstrap #{} ROC area: {:0.3f}\".format(i + 1, score))\n",
    "    sorted_scores = np.array(bootstrapped_scores)\n",
    "    sorted_scores.sort()\n",
    "    confidence_lower = sorted_scores[int(0.025 * len(sorted_scores))]\n",
    "    confidence_upper = sorted_scores[int(0.975 * len(sorted_scores))]\n",
    "    confidence_interval = (np.round(confidence_lower,2), np.round(confidence_upper,2))\n",
    "    \n",
    "    return confidence_interval, confidence_lower, confidence_upper, bootstrapped_scores"
   ]
  },
  {
   "cell_type": "code",
   "execution_count": 9,
   "id": "db8e1f68",
   "metadata": {},
   "outputs": [],
   "source": [
    "# plots 95 % confidence interval for the given metric\n",
    "def plot_conf_int(metric, confidence_lower, confidence_upper, bootstrapped_scores):\n",
    "    plt.hist(bootstrapped_scores, bins=50)\n",
    "    plt.title('Histogram of the Bootstrapped Metric Value')\n",
    "    plt.show()\n",
    "    print('Original Metric Value - {:0.2f}'.format(metric))\n",
    "    print('95% Confidence Interval for the Metric Value - [{:0.2f}, {:0.2f}]'.format(confidence_lower, confidence_upper))"
   ]
  },
  {
   "cell_type": "code",
   "execution_count": 10,
   "id": "30e10c1d",
   "metadata": {},
   "outputs": [],
   "source": [
    "# plots precision-recall curve\n",
    "def plot_pr_curve(y_predict_proba):\n",
    "    precision, recall, thresholds = precision_recall_curve(trans_test['HYPERMED'], y_predict_proba)\n",
    "    pr_auc = auc(recall, precision)\n",
    "    pr_no_skill = len(trans_test['HYPERMED'][trans_test['HYPERMED']==1]) / len(trans_test['HYPERMED'])\n",
    "    plt.plot([0, 1], [pr_no_skill, pr_no_skill], linestyle='--')\n",
    "    plt.plot(recall, precision, label='PR AUC='+'{:.2f}'.format(pr_auc))\n",
    "    plt.title('PR Curve')\n",
    "    plt.xlabel('Recall')\n",
    "    plt.ylabel('Precision')\n",
    "    plt.legend(loc=1)\n",
    "    plt.show()\n",
    "    return precision, recall, pr_auc"
   ]
  },
  {
   "cell_type": "code",
   "execution_count": 11,
   "id": "819dde1b",
   "metadata": {},
   "outputs": [],
   "source": [
    "# returns and prints classification report\n",
    "def show_classification_report(y_predict):\n",
    "    print(confusion_matrix(trans_test['HYPERMED'], y_predict))\n",
    "    report = classification_report(trans_test['HYPERMED'], y_predict, output_dict=True)\n",
    "    pprint(report)\n",
    "    return report"
   ]
  },
  {
   "cell_type": "code",
   "execution_count": 12,
   "id": "48c77ee6",
   "metadata": {},
   "outputs": [],
   "source": [
    "y = df_dedup['HYPERMED']\n",
    "X = df_dedup.drop(columns=[y.name])\n",
    "\n",
    "X_train, X_test, y_train, y_test = train_test_split(X, y, stratify=y, shuffle=True)"
   ]
  },
  {
   "cell_type": "code",
   "execution_count": 13,
   "id": "f21f660a",
   "metadata": {},
   "outputs": [],
   "source": [
    "y_true = np.array(trans_test['HYPERMED'])"
   ]
  },
  {
   "cell_type": "code",
   "execution_count": 14,
   "id": "e9607c8e",
   "metadata": {},
   "outputs": [
    {
     "data": {
      "text/plain": [
       "0.0    72.75651\n",
       "1.0    27.24349\n",
       "Name: HYPERMED, dtype: float64"
      ]
     },
     "execution_count": 14,
     "metadata": {},
     "output_type": "execute_result"
    }
   ],
   "source": [
    "y.value_counts(normalize=True)*100"
   ]
  },
  {
   "cell_type": "markdown",
   "id": "980e1445",
   "metadata": {},
   "source": [
    "# Logistic Regression\n",
    "- Includes a 95% confidence interval for each metric except for PR AUC\n",
    "- Hyperparameters\n",
    "    - max_iter - set number of iterations for model to try to converge for minimum error (difference between actual value and predicted value) \n",
    "    - For more hyperparameters and broad descriptions, refer to https://scikit-learn.org/stable/modules/generated/sklearn.linear_model.LogisticRegression.html"
   ]
  },
  {
   "cell_type": "code",
   "execution_count": 15,
   "id": "0ca85f83",
   "metadata": {},
   "outputs": [
    {
     "data": {
      "text/plain": [
       "LogisticRegression(max_iter=1000000)"
      ]
     },
     "execution_count": 15,
     "metadata": {},
     "output_type": "execute_result"
    },
    {
     "name": "stdout",
     "output_type": "stream",
     "text": [
      "Accuracy - 0.83\n"
     ]
    }
   ],
   "source": [
    "logreg = LogisticRegression(max_iter=1000000)\n",
    "logreg.fit(X_train, y_train)\n",
    "y_pred_logreg = logreg.predict(trans_test.drop(columns='HYPERMED'))\n",
    "acc_logreg = accuracy_score(y_true, y_pred_logreg)\n",
    "print('Accuracy -', round(acc_logreg,2))"
   ]
  },
  {
   "cell_type": "code",
   "execution_count": 16,
   "id": "ad402b6b",
   "metadata": {},
   "outputs": [
    {
     "data": {
      "image/png": "[encoded data removed]",
      "text/plain": [
       "<Figure size 432x288 with 1 Axes>"
      ]
     },
     "metadata": {
      "needs_background": "light"
     },
     "output_type": "display_data"
    },
    {
     "name": "stdout",
     "output_type": "stream",
     "text": [
      "Original Metric Value - 0.83\n",
      "95% Confidence Interval for the Metric Value - [0.80, 0.87]\n"
     ]
    }
   ],
   "source": [
    "ci_acc_logreg, lower_acc_logreg, upper_acc_logreg, bootstrap_acc_logreg = get_conf_int(acc_logreg, accuracy_score, y_true, y_pred_logreg)\n",
    "plot_conf_int(acc_logreg, lower_acc_logreg, upper_acc_logreg, bootstrap_acc_logreg)"
   ]
  },
  {
   "cell_type": "markdown",
   "id": "78551fc7",
   "metadata": {},
   "source": [
    "### ROC Curve"
   ]
  },
  {
   "cell_type": "code",
   "execution_count": 17,
   "id": "97246481",
   "metadata": {},
   "outputs": [
    {
     "data": {
      "image/png": "[encoded data removed]",
      "text/plain": [
       "<Figure size 432x288 with 1 Axes>"
      ]
     },
     "metadata": {
      "needs_background": "light"
     },
     "output_type": "display_data"
    }
   ],
   "source": [
    "y_pred_proba_logreg, fpr_logreg, tpr_logreg, roc_logreg = get_roc_curve_parts(logreg)\n",
    "plot_roc_curve(fpr_logreg, tpr_logreg, roc_logreg)"
   ]
  },
  {
   "cell_type": "code",
   "execution_count": 18,
   "id": "f839c14c",
   "metadata": {},
   "outputs": [
    {
     "data": {
      "image/png": "[encoded data removed]",
      "text/plain": [
       "<Figure size 432x288 with 1 Axes>"
      ]
     },
     "metadata": {
      "needs_background": "light"
     },
     "output_type": "display_data"
    },
    {
     "name": "stdout",
     "output_type": "stream",
     "text": [
      "Original Metric Value - 0.86\n",
      "95% Confidence Interval for the Metric Value - [0.82, 0.90]\n"
     ]
    }
   ],
   "source": [
    "ci_roc_logreg, lower_roc_logreg, upper_roc_logreg, bootstrap_roc_logreg = get_conf_int(roc_logreg, roc_auc_score, y_true, y_pred_proba_logreg)\n",
    "plot_conf_int(roc_logreg, lower_roc_logreg, upper_roc_logreg, bootstrap_roc_logreg)"
   ]
  },
  {
   "cell_type": "markdown",
   "id": "130b0d7b",
   "metadata": {},
   "source": [
    "### PR Curve"
   ]
  },
  {
   "cell_type": "code",
   "execution_count": 19,
   "id": "1711c4d3",
   "metadata": {},
   "outputs": [
    {
     "data": {
      "image/png": "[encoded data removed]",
      "text/plain": [
       "<Figure size 432x288 with 1 Axes>"
      ]
     },
     "metadata": {
      "needs_background": "light"
     },
     "output_type": "display_data"
    }
   ],
   "source": [
    "precision_logreg, recall_logreg, pr_logreg = plot_pr_curve(y_pred_proba_logreg)"
   ]
  },
  {
   "cell_type": "markdown",
   "id": "4135550b",
   "metadata": {},
   "source": [
    "### Confusion Matrix and Classification Report"
   ]
  },
  {
   "cell_type": "code",
   "execution_count": 20,
   "id": "c3353e8c",
   "metadata": {},
   "outputs": [
    {
     "name": "stdout",
     "output_type": "stream",
     "text": [
      "[[354  31]\n",
      " [ 51  54]]\n",
      "{'0.0': {'f1-score': 0.8962025316455696,\n",
      "         'precision': 0.8740740740740741,\n",
      "         'recall': 0.9194805194805195,\n",
      "         'support': 385},\n",
      " '1.0': {'f1-score': 0.5684210526315788,\n",
      "         'precision': 0.6352941176470588,\n",
      "         'recall': 0.5142857142857142,\n",
      "         'support': 105},\n",
      " 'accuracy': 0.8326530612244898,\n",
      " 'macro avg': {'f1-score': 0.7323117921385742,\n",
      "               'precision': 0.7546840958605665,\n",
      "               'recall': 0.7168831168831169,\n",
      "               'support': 490},\n",
      " 'weighted avg': {'f1-score': 0.8259636432854287,\n",
      "                  'precision': 0.8229069405539994,\n",
      "                  'recall': 0.8326530612244898,\n",
      "                  'support': 490}}\n"
     ]
    }
   ],
   "source": [
    "report_logreg = show_classification_report(y_pred_logreg)"
   ]
  },
  {
   "cell_type": "markdown",
   "id": "2d6570cd",
   "metadata": {},
   "source": [
    "### F1 Score (Macro/Unweighted)"
   ]
  },
  {
   "cell_type": "code",
   "execution_count": 21,
   "id": "37c4621b",
   "metadata": {},
   "outputs": [
    {
     "data": {
      "image/png": "[encoded data removed]",
      "text/plain": [
       "<Figure size 432x288 with 1 Axes>"
      ]
     },
     "metadata": {
      "needs_background": "light"
     },
     "output_type": "display_data"
    },
    {
     "name": "stdout",
     "output_type": "stream",
     "text": [
      "Original Metric Value - 0.73\n",
      "95% Confidence Interval for the Metric Value - [0.68, 0.78]\n"
     ]
    }
   ],
   "source": [
    "f1_logreg = report_logreg['macro avg']['f1-score']\n",
    "ci_f1_logreg, lower_f1_logreg, upper_f1_logreg, bootstrap_f1_logreg = get_conf_int(f1_logreg, f1_score, y_true, y_pred_logreg)\n",
    "plot_conf_int(f1_logreg, lower_f1_logreg, upper_f1_logreg, bootstrap_f1_logreg)"
   ]
  },
  {
   "cell_type": "markdown",
   "id": "7b477c41",
   "metadata": {},
   "source": [
    "### Matthews Correlation Coefficient"
   ]
  },
  {
   "cell_type": "code",
   "execution_count": 22,
   "id": "e414c562",
   "metadata": {},
   "outputs": [
    {
     "name": "stdout",
     "output_type": "stream",
     "text": [
      "MCC - 0.47\n"
     ]
    }
   ],
   "source": [
    "mcc_logreg = matthews_corrcoef(trans_test['HYPERMED'], y_pred_logreg)\n",
    "print('MCC -', round(mcc_logreg,2))"
   ]
  },
  {
   "cell_type": "code",
   "execution_count": 23,
   "id": "c7aa0086",
   "metadata": {},
   "outputs": [
    {
     "data": {
      "image/png": "[encoded data removed]",
      "text/plain": [
       "<Figure size 432x288 with 1 Axes>"
      ]
     },
     "metadata": {
      "needs_background": "light"
     },
     "output_type": "display_data"
    },
    {
     "name": "stdout",
     "output_type": "stream",
     "text": [
      "Original Metric Value - 0.47\n",
      "95% Confidence Interval for the Metric Value - [0.37, 0.57]\n"
     ]
    }
   ],
   "source": [
    "ci_mcc_logreg, lower_mcc_logreg, upper_mcc_logreg, bootstrap_mcc_logreg = get_conf_int(mcc_logreg, matthews_corrcoef, y_true, y_pred_logreg)\n",
    "plot_conf_int(mcc_logreg, lower_mcc_logreg, upper_mcc_logreg, bootstrap_mcc_logreg)"
   ]
  },
  {
   "cell_type": "markdown",
   "id": "edb4c7ed",
   "metadata": {},
   "source": [
    "# Random Forest\n",
    "- Includes a 95% confidence interval for each metric except for PR AUC"
   ]
  },
  {
   "cell_type": "code",
   "execution_count": 24,
   "id": "dcf50833",
   "metadata": {},
   "outputs": [
    {
     "data": {
      "text/plain": [
       "RandomForestClassifier()"
      ]
     },
     "execution_count": 24,
     "metadata": {},
     "output_type": "execute_result"
    },
    {
     "name": "stdout",
     "output_type": "stream",
     "text": [
      "Accuracy - 0.85\n"
     ]
    }
   ],
   "source": [
    "rf = RandomForestClassifier()\n",
    "rf.fit(X_train, y_train)\n",
    "y_pred_rf = rf.predict(trans_test.drop(columns='HYPERMED'))\n",
    "acc_rf = accuracy_score(y_true, y_pred_rf)\n",
    "print('Accuracy -', round(acc_rf,2))"
   ]
  },
  {
   "cell_type": "code",
   "execution_count": 25,
   "id": "b91caaa7",
   "metadata": {},
   "outputs": [
    {
     "data": {
      "image/png": "[encoded data removed]",
      "text/plain": [
       "<Figure size 432x288 with 1 Axes>"
      ]
     },
     "metadata": {
      "needs_background": "light"
     },
     "output_type": "display_data"
    },
    {
     "name": "stdout",
     "output_type": "stream",
     "text": [
      "Original Metric Value - 0.85\n",
      "95% Confidence Interval for the Metric Value - [0.82, 0.88]\n"
     ]
    }
   ],
   "source": [
    "ci_acc_rf, lower_acc_rf, upper_acc_rf, bootstrap_acc_rf = get_conf_int(acc_rf, accuracy_score, y_true, y_pred_rf)\n",
    "plot_conf_int(acc_rf, lower_acc_rf, upper_acc_rf, bootstrap_acc_rf)"
   ]
  },
  {
   "cell_type": "markdown",
   "id": "c71bef43",
   "metadata": {},
   "source": [
    "### ROC Curve"
   ]
  },
  {
   "cell_type": "code",
   "execution_count": 26,
   "id": "46948a53",
   "metadata": {},
   "outputs": [
    {
     "data": {
      "image/png": "[encoded data removed]",
      "text/plain": [
       "<Figure size 432x288 with 1 Axes>"
      ]
     },
     "metadata": {
      "needs_background": "light"
     },
     "output_type": "display_data"
    }
   ],
   "source": [
    "y_pred_proba_rf, fpr_rf, tpr_rf, roc_rf = get_roc_curve_parts(rf)\n",
    "plot_roc_curve(fpr_rf, tpr_rf, roc_rf)"
   ]
  },
  {
   "cell_type": "code",
   "execution_count": 27,
   "id": "d0b144c6",
   "metadata": {},
   "outputs": [
    {
     "data": {
      "image/png": "[encoded data removed]",
      "text/plain": [
       "<Figure size 432x288 with 1 Axes>"
      ]
     },
     "metadata": {
      "needs_background": "light"
     },
     "output_type": "display_data"
    },
    {
     "name": "stdout",
     "output_type": "stream",
     "text": [
      "Original Metric Value - 0.89\n",
      "95% Confidence Interval for the Metric Value - [0.85, 0.92]\n"
     ]
    }
   ],
   "source": [
    "ci_roc_rf, lower_roc_rf, upper_roc_rf, bootstrap_roc_rf = get_conf_int(roc_rf, roc_auc_score, y_true, y_pred_proba_rf)\n",
    "plot_conf_int(roc_rf, lower_roc_rf, upper_roc_rf, bootstrap_roc_rf)"
   ]
  },
  {
   "cell_type": "markdown",
   "id": "99e96b73",
   "metadata": {},
   "source": [
    "### PR Curve"
   ]
  },
  {
   "cell_type": "code",
   "execution_count": 28,
   "id": "c6ff6324",
   "metadata": {},
   "outputs": [
    {
     "data": {
      "image/png": "[encoded data removed]",
      "text/plain": [
       "<Figure size 432x288 with 1 Axes>"
      ]
     },
     "metadata": {
      "needs_background": "light"
     },
     "output_type": "display_data"
    }
   ],
   "source": [
    "precision_rf, recall_rf, pr_rf = plot_pr_curve(y_pred_proba_rf)"
   ]
  },
  {
   "cell_type": "markdown",
   "id": "457719f2",
   "metadata": {},
   "source": [
    "### Confusion Matrix and Classification Report"
   ]
  },
  {
   "cell_type": "code",
   "execution_count": 29,
   "id": "044da58f",
   "metadata": {},
   "outputs": [
    {
     "name": "stdout",
     "output_type": "stream",
     "text": [
      "[[356  29]\n",
      " [ 45  60]]\n",
      "{'0.0': {'f1-score': 0.905852417302799,\n",
      "         'precision': 0.8877805486284289,\n",
      "         'recall': 0.9246753246753247,\n",
      "         'support': 385},\n",
      " '1.0': {'f1-score': 0.6185567010309277,\n",
      "         'precision': 0.6741573033707865,\n",
      "         'recall': 0.5714285714285714,\n",
      "         'support': 105},\n",
      " 'accuracy': 0.8489795918367347,\n",
      " 'macro avg': {'f1-score': 0.7622045591668634,\n",
      "               'precision': 0.7809689259996078,\n",
      "               'recall': 0.7480519480519481,\n",
      "               'support': 490},\n",
      " 'weighted avg': {'f1-score': 0.8442890495302552,\n",
      "                  'precision': 0.8420041389303627,\n",
      "                  'recall': 0.8489795918367347,\n",
      "                  'support': 490}}\n"
     ]
    }
   ],
   "source": [
    "report_rf = show_classification_report(y_pred_rf)"
   ]
  },
  {
   "cell_type": "markdown",
   "id": "7ed396d4",
   "metadata": {},
   "source": [
    "### F1 Score (Macro/Unweighted)"
   ]
  },
  {
   "cell_type": "code",
   "execution_count": 30,
   "id": "f2554aa2",
   "metadata": {},
   "outputs": [
    {
     "data": {
      "image/png": "[encoded data removed]",
      "text/plain": [
       "<Figure size 432x288 with 1 Axes>"
      ]
     },
     "metadata": {
      "needs_background": "light"
     },
     "output_type": "display_data"
    },
    {
     "name": "stdout",
     "output_type": "stream",
     "text": [
      "Original Metric Value - 0.76\n",
      "95% Confidence Interval for the Metric Value - [0.71, 0.81]\n"
     ]
    }
   ],
   "source": [
    "f1_rf = report_rf['macro avg']['f1-score']\n",
    "ci_f1_rf, lower_f1_rf, upper_f1_rf, bootstrap_f1_rf = get_conf_int(f1_rf, f1_score, y_true, y_pred_rf)\n",
    "plot_conf_int(f1_rf, lower_f1_rf, upper_f1_rf, bootstrap_f1_rf)"
   ]
  },
  {
   "cell_type": "markdown",
   "id": "c264528d",
   "metadata": {},
   "source": [
    "### Matthews Correlation Coefficient"
   ]
  },
  {
   "cell_type": "code",
   "execution_count": 31,
   "id": "988752a8",
   "metadata": {},
   "outputs": [
    {
     "name": "stdout",
     "output_type": "stream",
     "text": [
      "MCC - 0.53\n"
     ]
    }
   ],
   "source": [
    "mcc_rf = matthews_corrcoef(trans_test['HYPERMED'], y_pred_rf)\n",
    "print('MCC -', round(mcc_rf,2))"
   ]
  },
  {
   "cell_type": "code",
   "execution_count": 32,
   "id": "0bf16bb8",
   "metadata": {},
   "outputs": [
    {
     "data": {
      "image/png": "[encoded data removed]",
      "text/plain": [
       "<Figure size 432x288 with 1 Axes>"
      ]
     },
     "metadata": {
      "needs_background": "light"
     },
     "output_type": "display_data"
    },
    {
     "name": "stdout",
     "output_type": "stream",
     "text": [
      "Original Metric Value - 0.53\n",
      "95% Confidence Interval for the Metric Value - [0.43, 0.62]\n"
     ]
    }
   ],
   "source": [
    "ci_mcc_rf, lower_mcc_rf, upper_mcc_rf, bootstrap_mcc_rf = get_conf_int(mcc_rf, matthews_corrcoef, y_true, y_pred_rf)\n",
    "plot_conf_int(mcc_rf, lower_mcc_rf, upper_mcc_rf, bootstrap_mcc_rf)"
   ]
  },
  {
   "cell_type": "markdown",
   "id": "b22e0277",
   "metadata": {},
   "source": [
    "# XGBoost\n",
    "- Includes a 95% confidence interval for each metric except for PR AUC\n",
    "- Hyperparameters\n",
    "    - max_iter - set number of iterations for model to try to converge for minimum error (difference between actual value and predicted value) \n",
    "    - For more hyperparameters and broard descriptions, refer to https://xgboost.readthedocs.io/en/latest/parameter.html"
   ]
  },
  {
   "cell_type": "code",
   "execution_count": 33,
   "id": "75d7847b",
   "metadata": {},
   "outputs": [
    {
     "name": "stderr",
     "output_type": "stream",
     "text": [
      "C:\\Users\\jorda\\miniconda3\\envs\\jma-trans\\lib\\site-packages\\xgboost\\sklearn.py:1224: UserWarning: The use of label encoder in XGBClassifier is deprecated and will be removed in a future release. To remove this warning, do the following: 1) Pass option use_label_encoder=False when constructing XGBClassifier object; and 2) Encode your labels (y) as integers starting with 0, i.e. 0, 1, 2, ..., [num_class - 1].\n",
      "  warnings.warn(label_encoder_deprecation_msg, UserWarning)\n"
     ]
    },
    {
     "name": "stdout",
     "output_type": "stream",
     "text": [
      "[22:25:02] WARNING: C:/Users/Administrator/workspace/xgboost-win64_release_1.5.1/src/learner.cc:576: \n",
      "Parameters: { \"max_iter\" } might not be used.\n",
      "\n",
      "  This could be a false alarm, with some parameters getting used by language bindings but\n",
      "  then being mistakenly passed down to XGBoost core, or some parameter actually being used\n",
      "  but getting flagged wrongly here. Please open an issue if you find any such cases.\n",
      "\n",
      "\n",
      "[22:25:03] WARNING: C:/Users/Administrator/workspace/xgboost-win64_release_1.5.1/src/learner.cc:1115: Starting in XGBoost 1.3.0, the default evaluation metric used with the objective 'binary:logistic' was changed from 'error' to 'logloss'. Explicitly set eval_metric if you'd like to restore the old behavior.\n"
     ]
    },
    {
     "data": {
      "text/plain": [
       "XGBClassifier(base_score=0.5, booster='gbtree', colsample_bylevel=1,\n",
       "              colsample_bynode=1, colsample_bytree=1, enable_categorical=False,\n",
       "              gamma=0, gpu_id=-1, importance_type=None,\n",
       "              interaction_constraints='', learning_rate=0.300000012,\n",
       "              max_delta_step=0, max_depth=6, max_iter=1000000,\n",
       "              min_child_weight=1, missing=nan, monotone_constraints='()',\n",
       "              n_estimators=100, n_jobs=8, num_parallel_tree=1, predictor='auto',\n",
       "              random_state=0, reg_alpha=0, reg_lambda=1, scale_pos_weight=1,\n",
       "              subsample=1, tree_method='exact', validate_parameters=1,\n",
       "              verbosity=None)"
      ]
     },
     "execution_count": 33,
     "metadata": {},
     "output_type": "execute_result"
    },
    {
     "name": "stdout",
     "output_type": "stream",
     "text": [
      "Accuracy - 0.85\n"
     ]
    }
   ],
   "source": [
    "xgb = XGBClassifier(max_iter=1000000)\n",
    "xgb.fit(X_train, y_train)\n",
    "y_pred_xgb =  xgb.predict(trans_test.drop(columns='HYPERMED'))\n",
    "acc_xgb = accuracy_score(y_true, y_pred_xgb)\n",
    "print('Accuracy -', round(acc_xgb,2))"
   ]
  },
  {
   "cell_type": "code",
   "execution_count": 34,
   "id": "368aa3ab",
   "metadata": {},
   "outputs": [
    {
     "data": {
      "image/png": "[encoded data removed]",
      "text/plain": [
       "<Figure size 432x288 with 1 Axes>"
      ]
     },
     "metadata": {
      "needs_background": "light"
     },
     "output_type": "display_data"
    },
    {
     "name": "stdout",
     "output_type": "stream",
     "text": [
      "Original Metric Value - 0.85\n",
      "95% Confidence Interval for the Metric Value - [0.82, 0.88]\n"
     ]
    }
   ],
   "source": [
    "ci_acc_xgb, lower_acc_xgb, upper_acc_xgb, bootstrap_acc_xgb = get_conf_int(acc_xgb, accuracy_score, y_true, y_pred_xgb)\n",
    "plot_conf_int(acc_xgb, lower_acc_xgb, upper_acc_xgb, bootstrap_acc_xgb)"
   ]
  },
  {
   "cell_type": "markdown",
   "id": "68bace9d",
   "metadata": {},
   "source": [
    "### ROC Curve"
   ]
  },
  {
   "cell_type": "code",
   "execution_count": 35,
   "id": "7b6965ec",
   "metadata": {},
   "outputs": [
    {
     "data": {
      "image/png": "[encoded data removed]",
      "text/plain": [
       "<Figure size 432x288 with 1 Axes>"
      ]
     },
     "metadata": {
      "needs_background": "light"
     },
     "output_type": "display_data"
    }
   ],
   "source": [
    "y_pred_proba_xgb, fpr_xgb, tpr_xgb, roc_xgb = get_roc_curve_parts(xgb)\n",
    "plot_roc_curve(fpr_xgb, tpr_xgb, roc_xgb)"
   ]
  },
  {
   "cell_type": "code",
   "execution_count": 36,
   "id": "b20023ca",
   "metadata": {},
   "outputs": [
    {
     "data": {
      "image/png": "[encoded data removed]",
      "text/plain": [
       "<Figure size 432x288 with 1 Axes>"
      ]
     },
     "metadata": {
      "needs_background": "light"
     },
     "output_type": "display_data"
    },
    {
     "name": "stdout",
     "output_type": "stream",
     "text": [
      "Original Metric Value - 0.88\n",
      "95% Confidence Interval for the Metric Value - [0.85, 0.91]\n"
     ]
    }
   ],
   "source": [
    "ci_roc_xgb, lower_roc_xgb, upper_roc_xgb, bootstrap_roc_xgb = get_conf_int(roc_xgb, roc_auc_score, y_true, y_pred_proba_xgb)\n",
    "plot_conf_int(roc_xgb, lower_roc_xgb, upper_roc_xgb, bootstrap_roc_xgb)"
   ]
  },
  {
   "cell_type": "markdown",
   "id": "f8490686",
   "metadata": {},
   "source": [
    "### PR Curve"
   ]
  },
  {
   "cell_type": "code",
   "execution_count": 37,
   "id": "1332eff3",
   "metadata": {},
   "outputs": [
    {
     "data": {
      "image/png": "[encoded data removed]",
      "text/plain": [
       "<Figure size 432x288 with 1 Axes>"
      ]
     },
     "metadata": {
      "needs_background": "light"
     },
     "output_type": "display_data"
    }
   ],
   "source": [
    "precision_xgb, recall_xgb, pr_xgb = plot_pr_curve(y_pred_proba_xgb)"
   ]
  },
  {
   "cell_type": "markdown",
   "id": "1f1cc3a1",
   "metadata": {},
   "source": [
    "### Confusion Matrix and Classification Report"
   ]
  },
  {
   "cell_type": "code",
   "execution_count": 38,
   "id": "4ef37361",
   "metadata": {},
   "outputs": [
    {
     "name": "stdout",
     "output_type": "stream",
     "text": [
      "[[358  27]\n",
      " [ 47  58]]\n",
      "{'0.0': {'f1-score': 0.9063291139240506,\n",
      "         'precision': 0.8839506172839506,\n",
      "         'recall': 0.9298701298701298,\n",
      "         'support': 385},\n",
      " '1.0': {'f1-score': 0.6105263157894737,\n",
      "         'precision': 0.6823529411764706,\n",
      "         'recall': 0.5523809523809524,\n",
      "         'support': 105},\n",
      " 'accuracy': 0.8489795918367347,\n",
      " 'macro avg': {'f1-score': 0.7584277148567622,\n",
      "               'precision': 0.7831517792302106,\n",
      "               'recall': 0.7411255411255411,\n",
      "               'support': 490},\n",
      " 'weighted avg': {'f1-score': 0.8429428000380699,\n",
      "                  'precision': 0.8407511152609192,\n",
      "                  'recall': 0.8489795918367347,\n",
      "                  'support': 490}}\n"
     ]
    }
   ],
   "source": [
    "report_xgb = show_classification_report(y_pred_xgb)"
   ]
  },
  {
   "cell_type": "markdown",
   "id": "f19469c7",
   "metadata": {},
   "source": [
    "### F1 Score (Macro/Unweighted)"
   ]
  },
  {
   "cell_type": "code",
   "execution_count": 39,
   "id": "1ce723b6",
   "metadata": {},
   "outputs": [
    {
     "data": {
      "image/png": "[encoded data removed]",
      "text/plain": [
       "<Figure size 432x288 with 1 Axes>"
      ]
     },
     "metadata": {
      "needs_background": "light"
     },
     "output_type": "display_data"
    },
    {
     "name": "stdout",
     "output_type": "stream",
     "text": [
      "Original Metric Value - 0.76\n",
      "95% Confidence Interval for the Metric Value - [0.71, 0.81]\n"
     ]
    }
   ],
   "source": [
    "f1_xgb = report_xgb['macro avg']['f1-score']\n",
    "ci_f1_xgb, lower_f1_xgb, upper_f1_xgb, bootstrap_f1_xgb = get_conf_int(f1_xgb, f1_score, y_true, y_pred_xgb)\n",
    "plot_conf_int(f1_xgb, lower_f1_xgb, upper_f1_xgb, bootstrap_f1_xgb)"
   ]
  },
  {
   "cell_type": "markdown",
   "id": "9662ddd2",
   "metadata": {},
   "source": [
    "### Matthews Correlation Coefficient"
   ]
  },
  {
   "cell_type": "code",
   "execution_count": 40,
   "id": "933df740",
   "metadata": {},
   "outputs": [
    {
     "name": "stdout",
     "output_type": "stream",
     "text": [
      "MCC - 0.52\n"
     ]
    }
   ],
   "source": [
    "mcc_xgb = matthews_corrcoef(trans_test['HYPERMED'], y_pred_xgb)\n",
    "print('MCC -', round(mcc_xgb,2))"
   ]
  },
  {
   "cell_type": "code",
   "execution_count": 41,
   "id": "d7d5a4eb",
   "metadata": {},
   "outputs": [
    {
     "data": {
      "image/png": "[encoded data removed]",
      "text/plain": [
       "<Figure size 432x288 with 1 Axes>"
      ]
     },
     "metadata": {
      "needs_background": "light"
     },
     "output_type": "display_data"
    },
    {
     "name": "stdout",
     "output_type": "stream",
     "text": [
      "Original Metric Value - 0.52\n",
      "95% Confidence Interval for the Metric Value - [0.43, 0.62]\n"
     ]
    }
   ],
   "source": [
    "ci_mcc_xgb, lower_mcc_xgb, upper_mcc_xgb, bootstrap_mcc_xgb = get_conf_int(mcc_xgb, matthews_corrcoef, y_true, y_pred_xgb)\n",
    "plot_conf_int(mcc_xgb, lower_mcc_xgb, upper_mcc_xgb, bootstrap_mcc_xgb)"
   ]
  },
  {
   "cell_type": "markdown",
   "id": "73d4784d",
   "metadata": {},
   "source": [
    "# Comparison Summary\n",
    "### Accuracy"
   ]
  },
  {
   "cell_type": "code",
   "execution_count": 42,
   "id": "7a1ab1ca",
   "metadata": {},
   "outputs": [
    {
     "data": {
      "text/html": [
       "<div>\n",
       "<style scoped>\n",
       "    .dataframe tbody tr th:only-of-type {\n",
       "        vertical-align: middle;\n",
       "    }\n",
       "\n",
       "    .dataframe tbody tr th {\n",
       "        vertical-align: top;\n",
       "    }\n",
       "\n",
       "    .dataframe thead th {\n",
       "        text-align: right;\n",
       "    }\n",
       "</style>\n",
       "<table border=\"1\" class=\"dataframe\">\n",
       "  <thead>\n",
       "    <tr style=\"text-align: right;\">\n",
       "      <th></th>\n",
       "      <th>Model</th>\n",
       "      <th>Accuracy</th>\n",
       "    </tr>\n",
       "  </thead>\n",
       "  <tbody>\n",
       "    <tr>\n",
       "      <th>0</th>\n",
       "      <td>Logistic Regression</td>\n",
       "      <td>0.83 (0.8, 0.87)</td>\n",
       "    </tr>\n",
       "    <tr>\n",
       "      <th>1</th>\n",
       "      <td>Random Forest</td>\n",
       "      <td>0.85 (0.82, 0.88)</td>\n",
       "    </tr>\n",
       "    <tr>\n",
       "      <th>2</th>\n",
       "      <td>XGBoost</td>\n",
       "      <td>0.85 (0.82, 0.88)</td>\n",
       "    </tr>\n",
       "  </tbody>\n",
       "</table>\n",
       "</div>"
      ],
      "text/plain": [
       "                 Model           Accuracy\n",
       "0  Logistic Regression   0.83 (0.8, 0.87)\n",
       "1        Random Forest  0.85 (0.82, 0.88)\n",
       "2              XGBoost  0.85 (0.82, 0.88)"
      ]
     },
     "execution_count": 42,
     "metadata": {},
     "output_type": "execute_result"
    }
   ],
   "source": [
    "accuracy_df = pd.DataFrame()\n",
    "accuracy_df['Model'] = ['Logistic Regression',\n",
    "                        'Random Forest',\n",
    "                        'XGBoost']\n",
    "accuracy_df['Accuracy'] = [round(score,2) for score in [acc_logreg, acc_rf, acc_xgb]]\n",
    "\n",
    "total_acc = accuracy_df\n",
    "total_acc['Accuracy'] = total_acc['Accuracy'].astype(str)\n",
    "ci_acc_list = [ci_acc_logreg, \n",
    "               ci_acc_rf, \n",
    "               ci_acc_xgb]\n",
    "for acc, ci, idx in zip(total_acc['Accuracy'], ci_acc_list, range(len(total_acc))):\n",
    "    total_acc['Accuracy'][idx] = ' '.join([str(acc), str(tuple([round(bound,2) for bound in ci]))])\n",
    "total_acc"
   ]
  },
  {
   "cell_type": "markdown",
   "id": "1eedee6a",
   "metadata": {},
   "source": [
    "### ROC AUC"
   ]
  },
  {
   "cell_type": "code",
   "execution_count": 43,
   "id": "2eb2e3b5",
   "metadata": {
    "scrolled": false
   },
   "outputs": [
    {
     "data": {
      "text/html": [
       "<div>\n",
       "<style scoped>\n",
       "    .dataframe tbody tr th:only-of-type {\n",
       "        vertical-align: middle;\n",
       "    }\n",
       "\n",
       "    .dataframe tbody tr th {\n",
       "        vertical-align: top;\n",
       "    }\n",
       "\n",
       "    .dataframe thead th {\n",
       "        text-align: right;\n",
       "    }\n",
       "</style>\n",
       "<table border=\"1\" class=\"dataframe\">\n",
       "  <thead>\n",
       "    <tr style=\"text-align: right;\">\n",
       "      <th></th>\n",
       "      <th>Model</th>\n",
       "      <th>ROC AUC</th>\n",
       "    </tr>\n",
       "  </thead>\n",
       "  <tbody>\n",
       "    <tr>\n",
       "      <th>0</th>\n",
       "      <td>Logistic Regression</td>\n",
       "      <td>0.86 (0.82, 0.9)</td>\n",
       "    </tr>\n",
       "    <tr>\n",
       "      <th>1</th>\n",
       "      <td>Random Forest</td>\n",
       "      <td>0.89 (0.85, 0.92)</td>\n",
       "    </tr>\n",
       "    <tr>\n",
       "      <th>2</th>\n",
       "      <td>XGBoost</td>\n",
       "      <td>0.88 (0.85, 0.91)</td>\n",
       "    </tr>\n",
       "  </tbody>\n",
       "</table>\n",
       "</div>"
      ],
      "text/plain": [
       "                 Model            ROC AUC\n",
       "0  Logistic Regression   0.86 (0.82, 0.9)\n",
       "1        Random Forest  0.89 (0.85, 0.92)\n",
       "2              XGBoost  0.88 (0.85, 0.91)"
      ]
     },
     "execution_count": 43,
     "metadata": {},
     "output_type": "execute_result"
    }
   ],
   "source": [
    "roc_df = pd.DataFrame()\n",
    "roc_df['Model'] = ['Logistic Regression',\n",
    "                   'Random Forest',\n",
    "                   'XGBoost']\n",
    "roc_df['ROC AUC'] = [round(roc,2) for roc in [roc_logreg, roc_rf, roc_xgb]]\n",
    "\n",
    "total_roc = roc_df\n",
    "total_roc['ROC AUC'] = total_roc['ROC AUC'].astype(str)\n",
    "ci_roc_list = [ci_roc_logreg,\n",
    "               ci_roc_rf,\n",
    "               ci_roc_xgb]\n",
    "for acc, ci, idx in zip(total_roc['ROC AUC'], ci_roc_list, range(len(total_roc))):\n",
    "    total_roc['ROC AUC'][idx] = ' '.join([str(acc), str(tuple([round(bound,2) for bound in ci]))])\n",
    "total_roc"
   ]
  },
  {
   "cell_type": "markdown",
   "id": "c52d3b8d",
   "metadata": {},
   "source": [
    "### F1 Score (Macro/Unweighted)"
   ]
  },
  {
   "cell_type": "code",
   "execution_count": 44,
   "id": "b2ded00b",
   "metadata": {},
   "outputs": [
    {
     "data": {
      "text/html": [
       "<div>\n",
       "<style scoped>\n",
       "    .dataframe tbody tr th:only-of-type {\n",
       "        vertical-align: middle;\n",
       "    }\n",
       "\n",
       "    .dataframe tbody tr th {\n",
       "        vertical-align: top;\n",
       "    }\n",
       "\n",
       "    .dataframe thead th {\n",
       "        text-align: right;\n",
       "    }\n",
       "</style>\n",
       "<table border=\"1\" class=\"dataframe\">\n",
       "  <thead>\n",
       "    <tr style=\"text-align: right;\">\n",
       "      <th></th>\n",
       "      <th>Model</th>\n",
       "      <th>F1</th>\n",
       "    </tr>\n",
       "  </thead>\n",
       "  <tbody>\n",
       "    <tr>\n",
       "      <th>0</th>\n",
       "      <td>Logistic Regression</td>\n",
       "      <td>0.73 (0.68, 0.78)</td>\n",
       "    </tr>\n",
       "    <tr>\n",
       "      <th>1</th>\n",
       "      <td>Random Forest</td>\n",
       "      <td>0.76 (0.71, 0.81)</td>\n",
       "    </tr>\n",
       "    <tr>\n",
       "      <th>2</th>\n",
       "      <td>XGBoost</td>\n",
       "      <td>0.76 (0.71, 0.81)</td>\n",
       "    </tr>\n",
       "  </tbody>\n",
       "</table>\n",
       "</div>"
      ],
      "text/plain": [
       "                 Model                 F1\n",
       "0  Logistic Regression  0.73 (0.68, 0.78)\n",
       "1        Random Forest  0.76 (0.71, 0.81)\n",
       "2              XGBoost  0.76 (0.71, 0.81)"
      ]
     },
     "execution_count": 44,
     "metadata": {},
     "output_type": "execute_result"
    }
   ],
   "source": [
    "f1_df = pd.DataFrame()\n",
    "f1_df['Model'] = ['Logistic Regression',\n",
    "                  'Random Forest',\n",
    "                  'XGBoost']\n",
    "f1_df['F1'] = [round(f1,2) for f1 in [f1_logreg, f1_rf, f1_xgb]]\n",
    "\n",
    "total_f1 = f1_df\n",
    "total_f1['F1'] = total_f1['F1'].astype(str)\n",
    "ci_f1_list = [ci_f1_logreg,\n",
    "              ci_f1_rf,\n",
    "              ci_f1_xgb]\n",
    "for acc, ci, idx in zip(total_f1['F1'], ci_f1_list, range(len(total_f1))):\n",
    "    total_f1['F1'][idx] = ' '.join([str(acc), str(tuple([round(bound,2) for bound in ci]))]) \n",
    "total_f1"
   ]
  },
  {
   "cell_type": "markdown",
   "id": "aa78f7b1",
   "metadata": {},
   "source": [
    "### Matthews Correlation Coefficient"
   ]
  },
  {
   "cell_type": "code",
   "execution_count": 45,
   "id": "de07c6d6",
   "metadata": {},
   "outputs": [
    {
     "data": {
      "text/html": [
       "<div>\n",
       "<style scoped>\n",
       "    .dataframe tbody tr th:only-of-type {\n",
       "        vertical-align: middle;\n",
       "    }\n",
       "\n",
       "    .dataframe tbody tr th {\n",
       "        vertical-align: top;\n",
       "    }\n",
       "\n",
       "    .dataframe thead th {\n",
       "        text-align: right;\n",
       "    }\n",
       "</style>\n",
       "<table border=\"1\" class=\"dataframe\">\n",
       "  <thead>\n",
       "    <tr style=\"text-align: right;\">\n",
       "      <th></th>\n",
       "      <th>Model</th>\n",
       "      <th>MCC</th>\n",
       "    </tr>\n",
       "  </thead>\n",
       "  <tbody>\n",
       "    <tr>\n",
       "      <th>0</th>\n",
       "      <td>Logistic Regression</td>\n",
       "      <td>0.47 (0.37, 0.57)</td>\n",
       "    </tr>\n",
       "    <tr>\n",
       "      <th>1</th>\n",
       "      <td>Random Forest</td>\n",
       "      <td>0.53 (0.43, 0.62)</td>\n",
       "    </tr>\n",
       "    <tr>\n",
       "      <th>2</th>\n",
       "      <td>XGBoost</td>\n",
       "      <td>0.52 (0.43, 0.62)</td>\n",
       "    </tr>\n",
       "  </tbody>\n",
       "</table>\n",
       "</div>"
      ],
      "text/plain": [
       "                 Model                MCC\n",
       "0  Logistic Regression  0.47 (0.37, 0.57)\n",
       "1        Random Forest  0.53 (0.43, 0.62)\n",
       "2              XGBoost  0.52 (0.43, 0.62)"
      ]
     },
     "execution_count": 45,
     "metadata": {},
     "output_type": "execute_result"
    }
   ],
   "source": [
    "mcc_df = pd.DataFrame()\n",
    "mcc_df['Model'] = ['Logistic Regression',\n",
    "                   'Random Forest',\n",
    "                   'XGBoost']\n",
    "mcc_df['MCC'] = [round(mcc,2) for mcc in [mcc_logreg, mcc_rf, mcc_xgb]]\n",
    "\n",
    "total_mcc = mcc_df\n",
    "total_mcc['MCC'] = total_mcc['MCC'].astype(str)\n",
    "ci_mcc_list = [ci_mcc_logreg,\n",
    "               ci_mcc_rf,\n",
    "               ci_mcc_xgb]\n",
    "for acc, ci, idx in zip(total_mcc['MCC'], ci_mcc_list, range(len(total_mcc))):\n",
    "    total_mcc['MCC'][idx] = ' '.join([str(acc), str(tuple([round(bound,2) for bound in ci]))])\n",
    "total_mcc"
   ]
  },
  {
   "cell_type": "markdown",
   "id": "16aab3e6",
   "metadata": {},
   "source": [
    "### Consolidated Results"
   ]
  },
  {
   "cell_type": "code",
   "execution_count": 46,
   "id": "c2541238",
   "metadata": {},
   "outputs": [
    {
     "data": {
      "text/html": [
       "<div>\n",
       "<style scoped>\n",
       "    .dataframe tbody tr th:only-of-type {\n",
       "        vertical-align: middle;\n",
       "    }\n",
       "\n",
       "    .dataframe tbody tr th {\n",
       "        vertical-align: top;\n",
       "    }\n",
       "\n",
       "    .dataframe thead th {\n",
       "        text-align: right;\n",
       "    }\n",
       "</style>\n",
       "<table border=\"1\" class=\"dataframe\">\n",
       "  <thead>\n",
       "    <tr style=\"text-align: right;\">\n",
       "      <th></th>\n",
       "      <th>Model</th>\n",
       "      <th>Accuracy</th>\n",
       "      <th>ROC AUC</th>\n",
       "      <th>F1</th>\n",
       "      <th>MCC</th>\n",
       "    </tr>\n",
       "  </thead>\n",
       "  <tbody>\n",
       "    <tr>\n",
       "      <th>0</th>\n",
       "      <td>Logistic Regression</td>\n",
       "      <td>0.83 (0.8, 0.87)</td>\n",
       "      <td>0.86 (0.82, 0.9)</td>\n",
       "      <td>0.73 (0.68, 0.78)</td>\n",
       "      <td>0.47 (0.37, 0.57)</td>\n",
       "    </tr>\n",
       "    <tr>\n",
       "      <th>1</th>\n",
       "      <td>Random Forest</td>\n",
       "      <td>0.85 (0.82, 0.88)</td>\n",
       "      <td>0.89 (0.85, 0.92)</td>\n",
       "      <td>0.76 (0.71, 0.81)</td>\n",
       "      <td>0.53 (0.43, 0.62)</td>\n",
       "    </tr>\n",
       "    <tr>\n",
       "      <th>2</th>\n",
       "      <td>XGBoost</td>\n",
       "      <td>0.85 (0.82, 0.88)</td>\n",
       "      <td>0.88 (0.85, 0.91)</td>\n",
       "      <td>0.76 (0.71, 0.81)</td>\n",
       "      <td>0.52 (0.43, 0.62)</td>\n",
       "    </tr>\n",
       "  </tbody>\n",
       "</table>\n",
       "</div>"
      ],
      "text/plain": [
       "                 Model           Accuracy            ROC AUC  \\\n",
       "0  Logistic Regression   0.83 (0.8, 0.87)   0.86 (0.82, 0.9)   \n",
       "1        Random Forest  0.85 (0.82, 0.88)  0.89 (0.85, 0.92)   \n",
       "2              XGBoost  0.85 (0.82, 0.88)  0.88 (0.85, 0.91)   \n",
       "\n",
       "                  F1                MCC  \n",
       "0  0.73 (0.68, 0.78)  0.47 (0.37, 0.57)  \n",
       "1  0.76 (0.71, 0.81)  0.53 (0.43, 0.62)  \n",
       "2  0.76 (0.71, 0.81)  0.52 (0.43, 0.62)  "
      ]
     },
     "execution_count": 46,
     "metadata": {},
     "output_type": "execute_result"
    }
   ],
   "source": [
    "total = total_acc.merge(total_roc, on='Model').merge(total_f1, on='Model').merge(total_mcc, on='Model')\n",
    "total"
   ]
  },
  {
   "cell_type": "markdown",
   "id": "b139fb8e",
   "metadata": {},
   "source": [
    "### ROC Curve Comparison for Logistic Regression Models from All 3 Cohorts"
   ]
  },
  {
   "cell_type": "code",
   "execution_count": 47,
   "id": "81140375",
   "metadata": {},
   "outputs": [],
   "source": [
    "with open('trans-logreg-roc-auc.json') as file:\n",
    "    trans_json = json.load(file)\n",
    "    \n",
    "with open('trans-cis-logreg-roc-auc.json') as file:\n",
    "    trans_cis_json = json.load(file)\n",
    "\n",
    "# pprint(trans_json)\n",
    "# pprint(trans_cis_json)"
   ]
  },
  {
   "cell_type": "code",
   "execution_count": 48,
   "id": "2a13d848",
   "metadata": {},
   "outputs": [
    {
     "data": {
      "text/plain": [
       "[<matplotlib.lines.Line2D at 0x20380e45b00>]"
      ]
     },
     "execution_count": 48,
     "metadata": {},
     "output_type": "execute_result"
    },
    {
     "data": {
      "text/plain": [
       "[<matplotlib.lines.Line2D at 0x203a1b4e630>]"
      ]
     },
     "execution_count": 48,
     "metadata": {},
     "output_type": "execute_result"
    },
    {
     "data": {
      "text/plain": [
       "[<matplotlib.lines.Line2D at 0x203a18e7d68>]"
      ]
     },
     "execution_count": 48,
     "metadata": {},
     "output_type": "execute_result"
    },
    {
     "data": {
      "text/plain": [
       "[<matplotlib.lines.Line2D at 0x20380e55128>]"
      ]
     },
     "execution_count": 48,
     "metadata": {},
     "output_type": "execute_result"
    },
    {
     "data": {
      "text/plain": [
       "Text(0.5, 1.0, 'ROC Curve Comparison for Logistic Regression Models')"
      ]
     },
     "execution_count": 48,
     "metadata": {},
     "output_type": "execute_result"
    },
    {
     "data": {
      "text/plain": [
       "Text(0, 0.5, 'True Positive Rate')"
      ]
     },
     "execution_count": 48,
     "metadata": {},
     "output_type": "execute_result"
    },
    {
     "data": {
      "text/plain": [
       "Text(0.5, 0, 'False Positive Rate')"
      ]
     },
     "execution_count": 48,
     "metadata": {},
     "output_type": "execute_result"
    },
    {
     "data": {
      "text/plain": [
       "(0.2, 1.03)"
      ]
     },
     "execution_count": 48,
     "metadata": {},
     "output_type": "execute_result"
    },
    {
     "data": {
      "text/plain": [
       "(0.0, 1.0)"
      ]
     },
     "execution_count": 48,
     "metadata": {},
     "output_type": "execute_result"
    },
    {
     "data": {
      "text/plain": [
       "<matplotlib.legend.Legend at 0x203a1b1f748>"
      ]
     },
     "execution_count": 48,
     "metadata": {},
     "output_type": "execute_result"
    },
    {
     "data": {
      "image/png": "[encoded data removed]",
      "text/plain": [
       "<Figure size 432x288 with 1 Axes>"
      ]
     },
     "metadata": {
      "needs_background": "light"
     },
     "output_type": "display_data"
    }
   ],
   "source": [
    "trans_fpr = trans_json['fpr']\n",
    "trans_tpr = trans_json['tpr']\n",
    "trans_roc = trans_json['roc']\n",
    "\n",
    "trans_cis_fpr = trans_cis_json['fpr']\n",
    "trans_cis_tpr = trans_cis_json['tpr']\n",
    "trans_cis_roc = trans_cis_json['roc']\n",
    "\n",
    "all_0 = [0 for entry in range(len(trans_test['HYPERMED']))]\n",
    "auc_0 = roc_auc_score(trans_test['HYPERMED'], all_0)\n",
    "fpr_0, tpr_0, thresholds_0 = roc_curve(trans_test['HYPERMED'], all_0)\n",
    "plt.plot(fpr_0, tpr_0, linestyle='--')\n",
    "plt.plot(trans_fpr, trans_tpr, label=\"AUC=\"+str(round(trans_roc,3))+' - Trans')\n",
    "plt.plot(trans_cis_fpr, trans_cis_tpr, label=\"AUC=\"+str(round(trans_cis_roc,3))+' - Trans-Cis')\n",
    "plt.plot(fpr_logreg, tpr_logreg, label=\"AUC=\"+str(round(roc_logreg,3))+' - Combined')\n",
    "plt.title('ROC Curve Comparison for Logistic Regression Models')\n",
    "plt.ylabel('True Positive Rate')\n",
    "plt.xlabel('False Positive Rate')\n",
    "plt.ylim([0.2,1.03])   # adjust y-axis range, comment out and rerun for default zoomed\n",
    "plt.xlim([0,1])        # adjust x-axis range, comment out and rerun for default zoom\n",
    "plt.legend(loc=4)\n",
    "plt.show()"
   ]
  },
  {
   "cell_type": "markdown",
   "id": "83538450",
   "metadata": {},
   "source": [
    "# Export Models"
   ]
  },
  {
   "cell_type": "code",
   "execution_count": 49,
   "id": "8a9f3600",
   "metadata": {},
   "outputs": [],
   "source": [
    "pickle.dump(logreg, open('combined-logreg.sav','wb'))\n",
    "pickle.dump(rf, open('combined-rf.sav','wb'))\n",
    "pickle.dump(xgb, open('combined-xgb.sav','wb'))"
   ]
  },
  {
   "cell_type": "markdown",
   "id": "14f92d25",
   "metadata": {},
   "source": [
    "# Statistical Hypothesis Testing to Evaluate Classifier Performance\n",
    "Uses 5x2cv paired t-test"
   ]
  },
  {
   "cell_type": "code",
   "execution_count": 50,
   "id": "4527d66c",
   "metadata": {},
   "outputs": [],
   "source": [
    "logreg_trans = pickle.load(open('trans-logreg.sav','rb'))\n",
    "logreg_trans_cis = pickle.load(open('trans-cis-logreg.sav','rb'))\n",
    "rf_trans = pickle.load(open('trans-rf.sav','rb'))\n",
    "rf_trans_cis = pickle.load(open('trans-cis-rf.sav','rb'))\n",
    "xgb_trans = pickle.load(open('trans-xgb.sav','rb'))\n",
    "xgb_trans_cis = pickle.load(open('trans-cis-xgb.sav','rb'))"
   ]
  },
  {
   "cell_type": "code",
   "execution_count": 51,
   "id": "032567b5",
   "metadata": {},
   "outputs": [],
   "source": [
    "y_ = df['HYPERMED']\n",
    "X_ = df.drop(columns=[y_.name])"
   ]
  },
  {
   "cell_type": "markdown",
   "id": "e67802e1",
   "metadata": {},
   "source": [
    "### Logistic Regression"
   ]
  },
  {
   "cell_type": "code",
   "execution_count": 52,
   "id": "07cd9a9c",
   "metadata": {},
   "outputs": [
    {
     "name": "stderr",
     "output_type": "stream",
     "text": [
      "C:\\Users\\jorda\\miniconda3\\envs\\jma-trans\\lib\\site-packages\\sklearn\\linear_model\\_logistic.py:818: ConvergenceWarning: lbfgs failed to converge (status=1):\n",
      "STOP: TOTAL NO. of ITERATIONS REACHED LIMIT.\n",
      "\n",
      "Increase the number of iterations (max_iter) or scale the data as shown in:\n",
      "    https://scikit-learn.org/stable/modules/preprocessing.html\n",
      "Please also refer to the documentation for alternative solver options:\n",
      "    https://scikit-learn.org/stable/modules/linear_model.html#logistic-regression\n",
      "  extra_warning_msg=_LOGISTIC_SOLVER_CONVERGENCE_MSG,\n",
      "C:\\Users\\jorda\\miniconda3\\envs\\jma-trans\\lib\\site-packages\\sklearn\\linear_model\\_logistic.py:818: ConvergenceWarning: lbfgs failed to converge (status=1):\n",
      "STOP: TOTAL NO. of ITERATIONS REACHED LIMIT.\n",
      "\n",
      "Increase the number of iterations (max_iter) or scale the data as shown in:\n",
      "    https://scikit-learn.org/stable/modules/preprocessing.html\n",
      "Please also refer to the documentation for alternative solver options:\n",
      "    https://scikit-learn.org/stable/modules/linear_model.html#logistic-regression\n",
      "  extra_warning_msg=_LOGISTIC_SOLVER_CONVERGENCE_MSG,\n",
      "C:\\Users\\jorda\\miniconda3\\envs\\jma-trans\\lib\\site-packages\\sklearn\\linear_model\\_logistic.py:818: ConvergenceWarning: lbfgs failed to converge (status=1):\n",
      "STOP: TOTAL NO. of ITERATIONS REACHED LIMIT.\n",
      "\n",
      "Increase the number of iterations (max_iter) or scale the data as shown in:\n",
      "    https://scikit-learn.org/stable/modules/preprocessing.html\n",
      "Please also refer to the documentation for alternative solver options:\n",
      "    https://scikit-learn.org/stable/modules/linear_model.html#logistic-regression\n",
      "  extra_warning_msg=_LOGISTIC_SOLVER_CONVERGENCE_MSG,\n",
      "C:\\Users\\jorda\\miniconda3\\envs\\jma-trans\\lib\\site-packages\\sklearn\\linear_model\\_logistic.py:818: ConvergenceWarning: lbfgs failed to converge (status=1):\n",
      "STOP: TOTAL NO. of ITERATIONS REACHED LIMIT.\n",
      "\n",
      "Increase the number of iterations (max_iter) or scale the data as shown in:\n",
      "    https://scikit-learn.org/stable/modules/preprocessing.html\n",
      "Please also refer to the documentation for alternative solver options:\n",
      "    https://scikit-learn.org/stable/modules/linear_model.html#logistic-regression\n",
      "  extra_warning_msg=_LOGISTIC_SOLVER_CONVERGENCE_MSG,\n",
      "C:\\Users\\jorda\\miniconda3\\envs\\jma-trans\\lib\\site-packages\\sklearn\\linear_model\\_logistic.py:818: ConvergenceWarning: lbfgs failed to converge (status=1):\n",
      "STOP: TOTAL NO. of ITERATIONS REACHED LIMIT.\n",
      "\n",
      "Increase the number of iterations (max_iter) or scale the data as shown in:\n",
      "    https://scikit-learn.org/stable/modules/preprocessing.html\n",
      "Please also refer to the documentation for alternative solver options:\n",
      "    https://scikit-learn.org/stable/modules/linear_model.html#logistic-regression\n",
      "  extra_warning_msg=_LOGISTIC_SOLVER_CONVERGENCE_MSG,\n",
      "C:\\Users\\jorda\\miniconda3\\envs\\jma-trans\\lib\\site-packages\\sklearn\\linear_model\\_logistic.py:818: ConvergenceWarning: lbfgs failed to converge (status=1):\n",
      "STOP: TOTAL NO. of ITERATIONS REACHED LIMIT.\n",
      "\n",
      "Increase the number of iterations (max_iter) or scale the data as shown in:\n",
      "    https://scikit-learn.org/stable/modules/preprocessing.html\n",
      "Please also refer to the documentation for alternative solver options:\n",
      "    https://scikit-learn.org/stable/modules/linear_model.html#logistic-regression\n",
      "  extra_warning_msg=_LOGISTIC_SOLVER_CONVERGENCE_MSG,\n",
      "C:\\Users\\jorda\\miniconda3\\envs\\jma-trans\\lib\\site-packages\\sklearn\\linear_model\\_logistic.py:818: ConvergenceWarning: lbfgs failed to converge (status=1):\n",
      "STOP: TOTAL NO. of ITERATIONS REACHED LIMIT.\n",
      "\n",
      "Increase the number of iterations (max_iter) or scale the data as shown in:\n",
      "    https://scikit-learn.org/stable/modules/preprocessing.html\n",
      "Please also refer to the documentation for alternative solver options:\n",
      "    https://scikit-learn.org/stable/modules/linear_model.html#logistic-regression\n",
      "  extra_warning_msg=_LOGISTIC_SOLVER_CONVERGENCE_MSG,\n",
      "C:\\Users\\jorda\\miniconda3\\envs\\jma-trans\\lib\\site-packages\\sklearn\\linear_model\\_logistic.py:818: ConvergenceWarning: lbfgs failed to converge (status=1):\n",
      "STOP: TOTAL NO. of ITERATIONS REACHED LIMIT.\n",
      "\n",
      "Increase the number of iterations (max_iter) or scale the data as shown in:\n",
      "    https://scikit-learn.org/stable/modules/preprocessing.html\n",
      "Please also refer to the documentation for alternative solver options:\n",
      "    https://scikit-learn.org/stable/modules/linear_model.html#logistic-regression\n",
      "  extra_warning_msg=_LOGISTIC_SOLVER_CONVERGENCE_MSG,\n",
      "C:\\Users\\jorda\\miniconda3\\envs\\jma-trans\\lib\\site-packages\\sklearn\\linear_model\\_logistic.py:818: ConvergenceWarning: lbfgs failed to converge (status=1):\n",
      "STOP: TOTAL NO. of ITERATIONS REACHED LIMIT.\n",
      "\n",
      "Increase the number of iterations (max_iter) or scale the data as shown in:\n",
      "    https://scikit-learn.org/stable/modules/preprocessing.html\n",
      "Please also refer to the documentation for alternative solver options:\n",
      "    https://scikit-learn.org/stable/modules/linear_model.html#logistic-regression\n",
      "  extra_warning_msg=_LOGISTIC_SOLVER_CONVERGENCE_MSG,\n",
      "C:\\Users\\jorda\\miniconda3\\envs\\jma-trans\\lib\\site-packages\\sklearn\\linear_model\\_logistic.py:818: ConvergenceWarning: lbfgs failed to converge (status=1):\n",
      "STOP: TOTAL NO. of ITERATIONS REACHED LIMIT.\n",
      "\n",
      "Increase the number of iterations (max_iter) or scale the data as shown in:\n",
      "    https://scikit-learn.org/stable/modules/preprocessing.html\n",
      "Please also refer to the documentation for alternative solver options:\n",
      "    https://scikit-learn.org/stable/modules/linear_model.html#logistic-regression\n",
      "  extra_warning_msg=_LOGISTIC_SOLVER_CONVERGENCE_MSG,\n",
      "C:\\Users\\jorda\\miniconda3\\envs\\jma-trans\\lib\\site-packages\\sklearn\\linear_model\\_logistic.py:818: ConvergenceWarning: lbfgs failed to converge (status=1):\n",
      "STOP: TOTAL NO. of ITERATIONS REACHED LIMIT.\n",
      "\n",
      "Increase the number of iterations (max_iter) or scale the data as shown in:\n",
      "    https://scikit-learn.org/stable/modules/preprocessing.html\n",
      "Please also refer to the documentation for alternative solver options:\n",
      "    https://scikit-learn.org/stable/modules/linear_model.html#logistic-regression\n",
      "  extra_warning_msg=_LOGISTIC_SOLVER_CONVERGENCE_MSG,\n",
      "C:\\Users\\jorda\\miniconda3\\envs\\jma-trans\\lib\\site-packages\\sklearn\\linear_model\\_logistic.py:818: ConvergenceWarning: lbfgs failed to converge (status=1):\n",
      "STOP: TOTAL NO. of ITERATIONS REACHED LIMIT.\n",
      "\n",
      "Increase the number of iterations (max_iter) or scale the data as shown in:\n",
      "    https://scikit-learn.org/stable/modules/preprocessing.html\n",
      "Please also refer to the documentation for alternative solver options:\n",
      "    https://scikit-learn.org/stable/modules/linear_model.html#logistic-regression\n",
      "  extra_warning_msg=_LOGISTIC_SOLVER_CONVERGENCE_MSG,\n",
      "C:\\Users\\jorda\\miniconda3\\envs\\jma-trans\\lib\\site-packages\\sklearn\\linear_model\\_logistic.py:818: ConvergenceWarning: lbfgs failed to converge (status=1):\n",
      "STOP: TOTAL NO. of ITERATIONS REACHED LIMIT.\n",
      "\n",
      "Increase the number of iterations (max_iter) or scale the data as shown in:\n",
      "    https://scikit-learn.org/stable/modules/preprocessing.html\n",
      "Please also refer to the documentation for alternative solver options:\n",
      "    https://scikit-learn.org/stable/modules/linear_model.html#logistic-regression\n",
      "  extra_warning_msg=_LOGISTIC_SOLVER_CONVERGENCE_MSG,\n",
      "C:\\Users\\jorda\\miniconda3\\envs\\jma-trans\\lib\\site-packages\\sklearn\\linear_model\\_logistic.py:818: ConvergenceWarning: lbfgs failed to converge (status=1):\n",
      "STOP: TOTAL NO. of ITERATIONS REACHED LIMIT.\n",
      "\n",
      "Increase the number of iterations (max_iter) or scale the data as shown in:\n",
      "    https://scikit-learn.org/stable/modules/preprocessing.html\n",
      "Please also refer to the documentation for alternative solver options:\n",
      "    https://scikit-learn.org/stable/modules/linear_model.html#logistic-regression\n",
      "  extra_warning_msg=_LOGISTIC_SOLVER_CONVERGENCE_MSG,\n",
      "C:\\Users\\jorda\\miniconda3\\envs\\jma-trans\\lib\\site-packages\\sklearn\\linear_model\\_logistic.py:818: ConvergenceWarning: lbfgs failed to converge (status=1):\n",
      "STOP: TOTAL NO. of ITERATIONS REACHED LIMIT.\n",
      "\n",
      "Increase the number of iterations (max_iter) or scale the data as shown in:\n",
      "    https://scikit-learn.org/stable/modules/preprocessing.html\n",
      "Please also refer to the documentation for alternative solver options:\n",
      "    https://scikit-learn.org/stable/modules/linear_model.html#logistic-regression\n",
      "  extra_warning_msg=_LOGISTIC_SOLVER_CONVERGENCE_MSG,\n"
     ]
    },
    {
     "name": "stderr",
     "output_type": "stream",
     "text": [
      "C:\\Users\\jorda\\miniconda3\\envs\\jma-trans\\lib\\site-packages\\sklearn\\linear_model\\_logistic.py:818: ConvergenceWarning: lbfgs failed to converge (status=1):\n",
      "STOP: TOTAL NO. of ITERATIONS REACHED LIMIT.\n",
      "\n",
      "Increase the number of iterations (max_iter) or scale the data as shown in:\n",
      "    https://scikit-learn.org/stable/modules/preprocessing.html\n",
      "Please also refer to the documentation for alternative solver options:\n",
      "    https://scikit-learn.org/stable/modules/linear_model.html#logistic-regression\n",
      "  extra_warning_msg=_LOGISTIC_SOLVER_CONVERGENCE_MSG,\n",
      "C:\\Users\\jorda\\miniconda3\\envs\\jma-trans\\lib\\site-packages\\sklearn\\linear_model\\_logistic.py:818: ConvergenceWarning: lbfgs failed to converge (status=1):\n",
      "STOP: TOTAL NO. of ITERATIONS REACHED LIMIT.\n",
      "\n",
      "Increase the number of iterations (max_iter) or scale the data as shown in:\n",
      "    https://scikit-learn.org/stable/modules/preprocessing.html\n",
      "Please also refer to the documentation for alternative solver options:\n",
      "    https://scikit-learn.org/stable/modules/linear_model.html#logistic-regression\n",
      "  extra_warning_msg=_LOGISTIC_SOLVER_CONVERGENCE_MSG,\n",
      "C:\\Users\\jorda\\miniconda3\\envs\\jma-trans\\lib\\site-packages\\sklearn\\linear_model\\_logistic.py:818: ConvergenceWarning: lbfgs failed to converge (status=1):\n",
      "STOP: TOTAL NO. of ITERATIONS REACHED LIMIT.\n",
      "\n",
      "Increase the number of iterations (max_iter) or scale the data as shown in:\n",
      "    https://scikit-learn.org/stable/modules/preprocessing.html\n",
      "Please also refer to the documentation for alternative solver options:\n",
      "    https://scikit-learn.org/stable/modules/linear_model.html#logistic-regression\n",
      "  extra_warning_msg=_LOGISTIC_SOLVER_CONVERGENCE_MSG,\n",
      "C:\\Users\\jorda\\miniconda3\\envs\\jma-trans\\lib\\site-packages\\sklearn\\linear_model\\_logistic.py:818: ConvergenceWarning: lbfgs failed to converge (status=1):\n",
      "STOP: TOTAL NO. of ITERATIONS REACHED LIMIT.\n",
      "\n",
      "Increase the number of iterations (max_iter) or scale the data as shown in:\n",
      "    https://scikit-learn.org/stable/modules/preprocessing.html\n",
      "Please also refer to the documentation for alternative solver options:\n",
      "    https://scikit-learn.org/stable/modules/linear_model.html#logistic-regression\n",
      "  extra_warning_msg=_LOGISTIC_SOLVER_CONVERGENCE_MSG,\n",
      "C:\\Users\\jorda\\miniconda3\\envs\\jma-trans\\lib\\site-packages\\sklearn\\linear_model\\_logistic.py:818: ConvergenceWarning: lbfgs failed to converge (status=1):\n",
      "STOP: TOTAL NO. of ITERATIONS REACHED LIMIT.\n",
      "\n",
      "Increase the number of iterations (max_iter) or scale the data as shown in:\n",
      "    https://scikit-learn.org/stable/modules/preprocessing.html\n",
      "Please also refer to the documentation for alternative solver options:\n",
      "    https://scikit-learn.org/stable/modules/linear_model.html#logistic-regression\n",
      "  extra_warning_msg=_LOGISTIC_SOLVER_CONVERGENCE_MSG,\n"
     ]
    },
    {
     "name": "stdout",
     "output_type": "stream",
     "text": [
      "Trans - Trans-Cis (Logistic Regression)\n",
      "P-value = nan\n",
      "t-statistic = nan\n"
     ]
    },
    {
     "name": "stderr",
     "output_type": "stream",
     "text": [
      "C:\\Users\\jorda\\miniconda3\\envs\\jma-trans\\lib\\site-packages\\mlxtend\\evaluate\\ttest.py:333: RuntimeWarning: invalid value encountered in double_scalars\n",
      "  t_stat = numerator / denominator\n"
     ]
    }
   ],
   "source": [
    "t1, p1 = paired_ttest_5x2cv(logreg_trans, logreg_trans_cis, X_, y_, 'accuracy')\n",
    "print('Trans - Trans-Cis (Logistic Regression)')\n",
    "print(f'P-value = {p1:.3f}')\n",
    "print(f't-statistic = {t1:.3f}')\n",
    "if p1 <= 0.05:\n",
    "    print('Since p < 0.05, we can reject the null hypothesis that both models perform equally well on this dataset. We may conclude that the two algorithms are significantly different.')\n",
    "elif p1 > 0.05:\n",
    "    print('Since p > 0.05, we cannot reject the null hypothesis and may conclude that the performance of the two algorithms is not significantly different.')\n",
    "else:\n",
    "    pass"
   ]
  },
  {
   "cell_type": "code",
   "execution_count": 53,
   "id": "3a524413",
   "metadata": {},
   "outputs": [
    {
     "name": "stderr",
     "output_type": "stream",
     "text": [
      "C:\\Users\\jorda\\miniconda3\\envs\\jma-trans\\lib\\site-packages\\sklearn\\linear_model\\_logistic.py:818: ConvergenceWarning: lbfgs failed to converge (status=1):\n",
      "STOP: TOTAL NO. of ITERATIONS REACHED LIMIT.\n",
      "\n",
      "Increase the number of iterations (max_iter) or scale the data as shown in:\n",
      "    https://scikit-learn.org/stable/modules/preprocessing.html\n",
      "Please also refer to the documentation for alternative solver options:\n",
      "    https://scikit-learn.org/stable/modules/linear_model.html#logistic-regression\n",
      "  extra_warning_msg=_LOGISTIC_SOLVER_CONVERGENCE_MSG,\n",
      "C:\\Users\\jorda\\miniconda3\\envs\\jma-trans\\lib\\site-packages\\sklearn\\linear_model\\_logistic.py:818: ConvergenceWarning: lbfgs failed to converge (status=1):\n",
      "STOP: TOTAL NO. of ITERATIONS REACHED LIMIT.\n",
      "\n",
      "Increase the number of iterations (max_iter) or scale the data as shown in:\n",
      "    https://scikit-learn.org/stable/modules/preprocessing.html\n",
      "Please also refer to the documentation for alternative solver options:\n",
      "    https://scikit-learn.org/stable/modules/linear_model.html#logistic-regression\n",
      "  extra_warning_msg=_LOGISTIC_SOLVER_CONVERGENCE_MSG,\n",
      "C:\\Users\\jorda\\miniconda3\\envs\\jma-trans\\lib\\site-packages\\sklearn\\linear_model\\_logistic.py:818: ConvergenceWarning: lbfgs failed to converge (status=1):\n",
      "STOP: TOTAL NO. of ITERATIONS REACHED LIMIT.\n",
      "\n",
      "Increase the number of iterations (max_iter) or scale the data as shown in:\n",
      "    https://scikit-learn.org/stable/modules/preprocessing.html\n",
      "Please also refer to the documentation for alternative solver options:\n",
      "    https://scikit-learn.org/stable/modules/linear_model.html#logistic-regression\n",
      "  extra_warning_msg=_LOGISTIC_SOLVER_CONVERGENCE_MSG,\n",
      "C:\\Users\\jorda\\miniconda3\\envs\\jma-trans\\lib\\site-packages\\sklearn\\linear_model\\_logistic.py:818: ConvergenceWarning: lbfgs failed to converge (status=1):\n",
      "STOP: TOTAL NO. of ITERATIONS REACHED LIMIT.\n",
      "\n",
      "Increase the number of iterations (max_iter) or scale the data as shown in:\n",
      "    https://scikit-learn.org/stable/modules/preprocessing.html\n",
      "Please also refer to the documentation for alternative solver options:\n",
      "    https://scikit-learn.org/stable/modules/linear_model.html#logistic-regression\n",
      "  extra_warning_msg=_LOGISTIC_SOLVER_CONVERGENCE_MSG,\n",
      "C:\\Users\\jorda\\miniconda3\\envs\\jma-trans\\lib\\site-packages\\sklearn\\linear_model\\_logistic.py:818: ConvergenceWarning: lbfgs failed to converge (status=1):\n",
      "STOP: TOTAL NO. of ITERATIONS REACHED LIMIT.\n",
      "\n",
      "Increase the number of iterations (max_iter) or scale the data as shown in:\n",
      "    https://scikit-learn.org/stable/modules/preprocessing.html\n",
      "Please also refer to the documentation for alternative solver options:\n",
      "    https://scikit-learn.org/stable/modules/linear_model.html#logistic-regression\n",
      "  extra_warning_msg=_LOGISTIC_SOLVER_CONVERGENCE_MSG,\n",
      "C:\\Users\\jorda\\miniconda3\\envs\\jma-trans\\lib\\site-packages\\sklearn\\linear_model\\_logistic.py:818: ConvergenceWarning: lbfgs failed to converge (status=1):\n",
      "STOP: TOTAL NO. of ITERATIONS REACHED LIMIT.\n",
      "\n",
      "Increase the number of iterations (max_iter) or scale the data as shown in:\n",
      "    https://scikit-learn.org/stable/modules/preprocessing.html\n",
      "Please also refer to the documentation for alternative solver options:\n",
      "    https://scikit-learn.org/stable/modules/linear_model.html#logistic-regression\n",
      "  extra_warning_msg=_LOGISTIC_SOLVER_CONVERGENCE_MSG,\n",
      "C:\\Users\\jorda\\miniconda3\\envs\\jma-trans\\lib\\site-packages\\sklearn\\linear_model\\_logistic.py:818: ConvergenceWarning: lbfgs failed to converge (status=1):\n",
      "STOP: TOTAL NO. of ITERATIONS REACHED LIMIT.\n",
      "\n",
      "Increase the number of iterations (max_iter) or scale the data as shown in:\n",
      "    https://scikit-learn.org/stable/modules/preprocessing.html\n",
      "Please also refer to the documentation for alternative solver options:\n",
      "    https://scikit-learn.org/stable/modules/linear_model.html#logistic-regression\n",
      "  extra_warning_msg=_LOGISTIC_SOLVER_CONVERGENCE_MSG,\n",
      "C:\\Users\\jorda\\miniconda3\\envs\\jma-trans\\lib\\site-packages\\sklearn\\linear_model\\_logistic.py:818: ConvergenceWarning: lbfgs failed to converge (status=1):\n",
      "STOP: TOTAL NO. of ITERATIONS REACHED LIMIT.\n",
      "\n",
      "Increase the number of iterations (max_iter) or scale the data as shown in:\n",
      "    https://scikit-learn.org/stable/modules/preprocessing.html\n",
      "Please also refer to the documentation for alternative solver options:\n",
      "    https://scikit-learn.org/stable/modules/linear_model.html#logistic-regression\n",
      "  extra_warning_msg=_LOGISTIC_SOLVER_CONVERGENCE_MSG,\n",
      "C:\\Users\\jorda\\miniconda3\\envs\\jma-trans\\lib\\site-packages\\sklearn\\linear_model\\_logistic.py:818: ConvergenceWarning: lbfgs failed to converge (status=1):\n",
      "STOP: TOTAL NO. of ITERATIONS REACHED LIMIT.\n",
      "\n",
      "Increase the number of iterations (max_iter) or scale the data as shown in:\n",
      "    https://scikit-learn.org/stable/modules/preprocessing.html\n",
      "Please also refer to the documentation for alternative solver options:\n",
      "    https://scikit-learn.org/stable/modules/linear_model.html#logistic-regression\n",
      "  extra_warning_msg=_LOGISTIC_SOLVER_CONVERGENCE_MSG,\n",
      "C:\\Users\\jorda\\miniconda3\\envs\\jma-trans\\lib\\site-packages\\sklearn\\linear_model\\_logistic.py:818: ConvergenceWarning: lbfgs failed to converge (status=1):\n",
      "STOP: TOTAL NO. of ITERATIONS REACHED LIMIT.\n",
      "\n",
      "Increase the number of iterations (max_iter) or scale the data as shown in:\n",
      "    https://scikit-learn.org/stable/modules/preprocessing.html\n",
      "Please also refer to the documentation for alternative solver options:\n",
      "    https://scikit-learn.org/stable/modules/linear_model.html#logistic-regression\n",
      "  extra_warning_msg=_LOGISTIC_SOLVER_CONVERGENCE_MSG,\n"
     ]
    },
    {
     "name": "stdout",
     "output_type": "stream",
     "text": [
      "Trans - Combined (Logistic Regression)\n",
      "P-value = 0.000\n",
      "t-statistic = -26.229\n",
      "Since p < 0.05, we can reject the null hypothesis that both models perform equally well on this dataset. We may conclude that the two algorithms are significantly different.\n"
     ]
    }
   ],
   "source": [
    "t2, p2 = paired_ttest_5x2cv(logreg_trans, logreg, X_, y_, 'accuracy')\n",
    "print('Trans - Combined (Logistic Regression)')\n",
    "print(f'P-value = {p2:.3f}')\n",
    "print(f't-statistic = {t2:.3f}')\n",
    "if p2 <= 0.05:\n",
    "    print('Since p < 0.05, we can reject the null hypothesis that both models perform equally well on this dataset. We may conclude that the two algorithms are significantly different.')\n",
    "elif p2 > 0.05:\n",
    "    print('Since p > 0.05, we cannot reject the null hypothesis and may conclude that the performance of the two algorithms is not significantly different.')\n",
    "else:\n",
    "    pass"
   ]
  },
  {
   "cell_type": "markdown",
   "id": "1757c904",
   "metadata": {},
   "source": [
    "### Random Forest"
   ]
  },
  {
   "cell_type": "code",
   "execution_count": 54,
   "id": "0da26f9e",
   "metadata": {},
   "outputs": [
    {
     "name": "stdout",
     "output_type": "stream",
     "text": [
      "Trans - Trans-Cis (Random Forest)\n",
      "P-value = 0.971\n",
      "t-statistic = -0.038\n",
      "Since p > 0.05, we cannot reject the null hypothesis and may conclude that the performance of the two algorithms is not significantly different.\n"
     ]
    }
   ],
   "source": [
    "t3, p3 = paired_ttest_5x2cv(rf_trans, rf_trans_cis, X_, y_, 'accuracy')\n",
    "print('Trans - Trans-Cis (Random Forest)')\n",
    "print(f'P-value = {p3:.3f}')\n",
    "print(f't-statistic = {t3:.3f}')\n",
    "if p3 <= 0.05:\n",
    "    print('Since p < 0.05, we can reject the null hypothesis that both models perform equally well on this dataset. We may conclude that the two algorithms are significantly different.')\n",
    "elif p3 > 0.05:\n",
    "    print('Since p > 0.05, we cannot reject the null hypothesis and may conclude that the performance of the two algorithms is not significantly different.')\n",
    "else:\n",
    "    pass"
   ]
  },
  {
   "cell_type": "code",
   "execution_count": 55,
   "id": "11f2a140",
   "metadata": {},
   "outputs": [
    {
     "name": "stdout",
     "output_type": "stream",
     "text": [
      "Trans - Combined (Random Forest)\n",
      "P-value = 0.887\n",
      "t-statistic = 0.150\n",
      "Since p > 0.05, we cannot reject the null hypothesis and may conclude that the performance of the two algorithms is not significantly different.\n"
     ]
    }
   ],
   "source": [
    "t4, p4 = paired_ttest_5x2cv(rf_trans, rf, X_, y_, 'accuracy')\n",
    "print('Trans - Combined (Random Forest)')\n",
    "print(f'P-value = {p4:.3f}')\n",
    "print(f't-statistic = {t4:.3f}')\n",
    "if p4 <= 0.05:\n",
    "    print('Since p < 0.05, we can reject the null hypothesis that both models perform equally well on this dataset. We may conclude that the two algorithms are significantly different.')\n",
    "elif p4 > 0.05:\n",
    "    print('Since p > 0.05, we cannot reject the null hypothesis and may conclude that the performance of the two algorithms is not significantly different.')\n",
    "else:\n",
    "    pass"
   ]
  },
  {
   "cell_type": "markdown",
   "id": "5bb292a5",
   "metadata": {},
   "source": [
    "### XGBoost"
   ]
  },
  {
   "cell_type": "code",
   "execution_count": 56,
   "id": "1691964b",
   "metadata": {},
   "outputs": [
    {
     "name": "stderr",
     "output_type": "stream",
     "text": [
      "C:\\Users\\jorda\\miniconda3\\envs\\jma-trans\\lib\\site-packages\\xgboost\\sklearn.py:1224: UserWarning: The use of label encoder in XGBClassifier is deprecated and will be removed in a future release. To remove this warning, do the following: 1) Pass option use_label_encoder=False when constructing XGBClassifier object; and 2) Encode your labels (y) as integers starting with 0, i.e. 0, 1, 2, ..., [num_class - 1].\n",
      "  warnings.warn(label_encoder_deprecation_msg, UserWarning)\n"
     ]
    },
    {
     "name": "stdout",
     "output_type": "stream",
     "text": [
      "[23:46:56] WARNING: C:/Users/Administrator/workspace/xgboost-win64_release_1.5.1/src/learner.cc:1115: Starting in XGBoost 1.3.0, the default evaluation metric used with the objective 'binary:logistic' was changed from 'error' to 'logloss'. Explicitly set eval_metric if you'd like to restore the old behavior.\n",
      "[23:47:15] WARNING: C:/Users/Administrator/workspace/xgboost-win64_release_1.5.1/src/learner.cc:1115: Starting in XGBoost 1.3.0, the default evaluation metric used with the objective 'binary:logistic' was changed from 'error' to 'logloss'. Explicitly set eval_metric if you'd like to restore the old behavior.\n"
     ]
    },
    {
     "name": "stderr",
     "output_type": "stream",
     "text": [
      "C:\\Users\\jorda\\miniconda3\\envs\\jma-trans\\lib\\site-packages\\xgboost\\sklearn.py:1224: UserWarning: The use of label encoder in XGBClassifier is deprecated and will be removed in a future release. To remove this warning, do the following: 1) Pass option use_label_encoder=False when constructing XGBClassifier object; and 2) Encode your labels (y) as integers starting with 0, i.e. 0, 1, 2, ..., [num_class - 1].\n",
      "  warnings.warn(label_encoder_deprecation_msg, UserWarning)\n"
     ]
    },
    {
     "name": "stdout",
     "output_type": "stream",
     "text": [
      "[23:47:37] WARNING: C:/Users/Administrator/workspace/xgboost-win64_release_1.5.1/src/learner.cc:1115: Starting in XGBoost 1.3.0, the default evaluation metric used with the objective 'binary:logistic' was changed from 'error' to 'logloss'. Explicitly set eval_metric if you'd like to restore the old behavior.\n",
      "[23:47:59] WARNING: C:/Users/Administrator/workspace/xgboost-win64_release_1.5.1/src/learner.cc:1115: Starting in XGBoost 1.3.0, the default evaluation metric used with the objective 'binary:logistic' was changed from 'error' to 'logloss'. Explicitly set eval_metric if you'd like to restore the old behavior.\n"
     ]
    },
    {
     "name": "stderr",
     "output_type": "stream",
     "text": [
      "C:\\Users\\jorda\\miniconda3\\envs\\jma-trans\\lib\\site-packages\\xgboost\\sklearn.py:1224: UserWarning: The use of label encoder in XGBClassifier is deprecated and will be removed in a future release. To remove this warning, do the following: 1) Pass option use_label_encoder=False when constructing XGBClassifier object; and 2) Encode your labels (y) as integers starting with 0, i.e. 0, 1, 2, ..., [num_class - 1].\n",
      "  warnings.warn(label_encoder_deprecation_msg, UserWarning)\n"
     ]
    },
    {
     "name": "stdout",
     "output_type": "stream",
     "text": [
      "[23:48:22] WARNING: C:/Users/Administrator/workspace/xgboost-win64_release_1.5.1/src/learner.cc:1115: Starting in XGBoost 1.3.0, the default evaluation metric used with the objective 'binary:logistic' was changed from 'error' to 'logloss'. Explicitly set eval_metric if you'd like to restore the old behavior.\n",
      "[23:48:44] WARNING: C:/Users/Administrator/workspace/xgboost-win64_release_1.5.1/src/learner.cc:1115: Starting in XGBoost 1.3.0, the default evaluation metric used with the objective 'binary:logistic' was changed from 'error' to 'logloss'. Explicitly set eval_metric if you'd like to restore the old behavior.\n"
     ]
    },
    {
     "name": "stderr",
     "output_type": "stream",
     "text": [
      "C:\\Users\\jorda\\miniconda3\\envs\\jma-trans\\lib\\site-packages\\xgboost\\sklearn.py:1224: UserWarning: The use of label encoder in XGBClassifier is deprecated and will be removed in a future release. To remove this warning, do the following: 1) Pass option use_label_encoder=False when constructing XGBClassifier object; and 2) Encode your labels (y) as integers starting with 0, i.e. 0, 1, 2, ..., [num_class - 1].\n",
      "  warnings.warn(label_encoder_deprecation_msg, UserWarning)\n"
     ]
    },
    {
     "name": "stdout",
     "output_type": "stream",
     "text": [
      "[23:49:07] WARNING: C:/Users/Administrator/workspace/xgboost-win64_release_1.5.1/src/learner.cc:1115: Starting in XGBoost 1.3.0, the default evaluation metric used with the objective 'binary:logistic' was changed from 'error' to 'logloss'. Explicitly set eval_metric if you'd like to restore the old behavior.\n",
      "[23:49:29] WARNING: C:/Users/Administrator/workspace/xgboost-win64_release_1.5.1/src/learner.cc:1115: Starting in XGBoost 1.3.0, the default evaluation metric used with the objective 'binary:logistic' was changed from 'error' to 'logloss'. Explicitly set eval_metric if you'd like to restore the old behavior.\n"
     ]
    },
    {
     "name": "stderr",
     "output_type": "stream",
     "text": [
      "C:\\Users\\jorda\\miniconda3\\envs\\jma-trans\\lib\\site-packages\\xgboost\\sklearn.py:1224: UserWarning: The use of label encoder in XGBClassifier is deprecated and will be removed in a future release. To remove this warning, do the following: 1) Pass option use_label_encoder=False when constructing XGBClassifier object; and 2) Encode your labels (y) as integers starting with 0, i.e. 0, 1, 2, ..., [num_class - 1].\n",
      "  warnings.warn(label_encoder_deprecation_msg, UserWarning)\n"
     ]
    },
    {
     "name": "stdout",
     "output_type": "stream",
     "text": [
      "[23:49:52] WARNING: C:/Users/Administrator/workspace/xgboost-win64_release_1.5.1/src/learner.cc:1115: Starting in XGBoost 1.3.0, the default evaluation metric used with the objective 'binary:logistic' was changed from 'error' to 'logloss'. Explicitly set eval_metric if you'd like to restore the old behavior.\n",
      "[23:50:13] WARNING: C:/Users/Administrator/workspace/xgboost-win64_release_1.5.1/src/learner.cc:1115: Starting in XGBoost 1.3.0, the default evaluation metric used with the objective 'binary:logistic' was changed from 'error' to 'logloss'. Explicitly set eval_metric if you'd like to restore the old behavior.\n"
     ]
    },
    {
     "name": "stderr",
     "output_type": "stream",
     "text": [
      "C:\\Users\\jorda\\miniconda3\\envs\\jma-trans\\lib\\site-packages\\xgboost\\sklearn.py:1224: UserWarning: The use of label encoder in XGBClassifier is deprecated and will be removed in a future release. To remove this warning, do the following: 1) Pass option use_label_encoder=False when constructing XGBClassifier object; and 2) Encode your labels (y) as integers starting with 0, i.e. 0, 1, 2, ..., [num_class - 1].\n",
      "  warnings.warn(label_encoder_deprecation_msg, UserWarning)\n"
     ]
    },
    {
     "name": "stdout",
     "output_type": "stream",
     "text": [
      "[23:50:36] WARNING: C:/Users/Administrator/workspace/xgboost-win64_release_1.5.1/src/learner.cc:1115: Starting in XGBoost 1.3.0, the default evaluation metric used with the objective 'binary:logistic' was changed from 'error' to 'logloss'. Explicitly set eval_metric if you'd like to restore the old behavior.\n",
      "[23:50:59] WARNING: C:/Users/Administrator/workspace/xgboost-win64_release_1.5.1/src/learner.cc:1115: Starting in XGBoost 1.3.0, the default evaluation metric used with the objective 'binary:logistic' was changed from 'error' to 'logloss'. Explicitly set eval_metric if you'd like to restore the old behavior.\n"
     ]
    },
    {
     "name": "stderr",
     "output_type": "stream",
     "text": [
      "C:\\Users\\jorda\\miniconda3\\envs\\jma-trans\\lib\\site-packages\\xgboost\\sklearn.py:1224: UserWarning: The use of label encoder in XGBClassifier is deprecated and will be removed in a future release. To remove this warning, do the following: 1) Pass option use_label_encoder=False when constructing XGBClassifier object; and 2) Encode your labels (y) as integers starting with 0, i.e. 0, 1, 2, ..., [num_class - 1].\n",
      "  warnings.warn(label_encoder_deprecation_msg, UserWarning)\n"
     ]
    },
    {
     "name": "stdout",
     "output_type": "stream",
     "text": [
      "[23:51:22] WARNING: C:/Users/Administrator/workspace/xgboost-win64_release_1.5.1/src/learner.cc:1115: Starting in XGBoost 1.3.0, the default evaluation metric used with the objective 'binary:logistic' was changed from 'error' to 'logloss'. Explicitly set eval_metric if you'd like to restore the old behavior.\n",
      "[23:51:44] WARNING: C:/Users/Administrator/workspace/xgboost-win64_release_1.5.1/src/learner.cc:1115: Starting in XGBoost 1.3.0, the default evaluation metric used with the objective 'binary:logistic' was changed from 'error' to 'logloss'. Explicitly set eval_metric if you'd like to restore the old behavior.\n"
     ]
    },
    {
     "name": "stderr",
     "output_type": "stream",
     "text": [
      "C:\\Users\\jorda\\miniconda3\\envs\\jma-trans\\lib\\site-packages\\xgboost\\sklearn.py:1224: UserWarning: The use of label encoder in XGBClassifier is deprecated and will be removed in a future release. To remove this warning, do the following: 1) Pass option use_label_encoder=False when constructing XGBClassifier object; and 2) Encode your labels (y) as integers starting with 0, i.e. 0, 1, 2, ..., [num_class - 1].\n",
      "  warnings.warn(label_encoder_deprecation_msg, UserWarning)\n"
     ]
    },
    {
     "name": "stdout",
     "output_type": "stream",
     "text": [
      "[23:52:04] WARNING: C:/Users/Administrator/workspace/xgboost-win64_release_1.5.1/src/learner.cc:1115: Starting in XGBoost 1.3.0, the default evaluation metric used with the objective 'binary:logistic' was changed from 'error' to 'logloss'. Explicitly set eval_metric if you'd like to restore the old behavior.\n",
      "[23:52:23] WARNING: C:/Users/Administrator/workspace/xgboost-win64_release_1.5.1/src/learner.cc:1115: Starting in XGBoost 1.3.0, the default evaluation metric used with the objective 'binary:logistic' was changed from 'error' to 'logloss'. Explicitly set eval_metric if you'd like to restore the old behavior.\n"
     ]
    },
    {
     "name": "stderr",
     "output_type": "stream",
     "text": [
      "C:\\Users\\jorda\\miniconda3\\envs\\jma-trans\\lib\\site-packages\\xgboost\\sklearn.py:1224: UserWarning: The use of label encoder in XGBClassifier is deprecated and will be removed in a future release. To remove this warning, do the following: 1) Pass option use_label_encoder=False when constructing XGBClassifier object; and 2) Encode your labels (y) as integers starting with 0, i.e. 0, 1, 2, ..., [num_class - 1].\n",
      "  warnings.warn(label_encoder_deprecation_msg, UserWarning)\n"
     ]
    },
    {
     "name": "stdout",
     "output_type": "stream",
     "text": [
      "[23:52:44] WARNING: C:/Users/Administrator/workspace/xgboost-win64_release_1.5.1/src/learner.cc:1115: Starting in XGBoost 1.3.0, the default evaluation metric used with the objective 'binary:logistic' was changed from 'error' to 'logloss'. Explicitly set eval_metric if you'd like to restore the old behavior.\n",
      "[23:53:05] WARNING: C:/Users/Administrator/workspace/xgboost-win64_release_1.5.1/src/learner.cc:1115: Starting in XGBoost 1.3.0, the default evaluation metric used with the objective 'binary:logistic' was changed from 'error' to 'logloss'. Explicitly set eval_metric if you'd like to restore the old behavior.\n"
     ]
    },
    {
     "name": "stderr",
     "output_type": "stream",
     "text": [
      "C:\\Users\\jorda\\miniconda3\\envs\\jma-trans\\lib\\site-packages\\xgboost\\sklearn.py:1224: UserWarning: The use of label encoder in XGBClassifier is deprecated and will be removed in a future release. To remove this warning, do the following: 1) Pass option use_label_encoder=False when constructing XGBClassifier object; and 2) Encode your labels (y) as integers starting with 0, i.e. 0, 1, 2, ..., [num_class - 1].\n",
      "  warnings.warn(label_encoder_deprecation_msg, UserWarning)\n"
     ]
    },
    {
     "name": "stdout",
     "output_type": "stream",
     "text": [
      "[23:53:34] WARNING: C:/Users/Administrator/workspace/xgboost-win64_release_1.5.1/src/learner.cc:1115: Starting in XGBoost 1.3.0, the default evaluation metric used with the objective 'binary:logistic' was changed from 'error' to 'logloss'. Explicitly set eval_metric if you'd like to restore the old behavior.\n",
      "[23:54:00] WARNING: C:/Users/Administrator/workspace/xgboost-win64_release_1.5.1/src/learner.cc:1115: Starting in XGBoost 1.3.0, the default evaluation metric used with the objective 'binary:logistic' was changed from 'error' to 'logloss'. Explicitly set eval_metric if you'd like to restore the old behavior.\n",
      "Trans - Trans-Cis (XGBoost)\n",
      "P-value = nan\n",
      "t-statistic = nan\n"
     ]
    },
    {
     "name": "stderr",
     "output_type": "stream",
     "text": [
      "C:\\Users\\jorda\\miniconda3\\envs\\jma-trans\\lib\\site-packages\\mlxtend\\evaluate\\ttest.py:333: RuntimeWarning: invalid value encountered in double_scalars\n",
      "  t_stat = numerator / denominator\n"
     ]
    }
   ],
   "source": [
    "t5, p5 = paired_ttest_5x2cv(xgb_trans, xgb_trans_cis, X_, y_, 'accuracy')\n",
    "print('Trans - Trans-Cis (XGBoost)')\n",
    "print(f'P-value = {p5:.3f}')\n",
    "print(f't-statistic = {t5:.3f}')\n",
    "if p5 <= 0.05:\n",
    "    print('Since p < 0.05, we can reject the null hypothesis that both models perform equally well on this dataset. We may conclude that the two algorithms are significantly different.')\n",
    "elif p5 > 0.05:\n",
    "    print('Since p > 0.05, we cannot reject the null hypothesis and may conclude that the performance of the two algorithms is not significantly different.')\n",
    "else:\n",
    "    pass"
   ]
  },
  {
   "cell_type": "code",
   "execution_count": 57,
   "id": "c948729d",
   "metadata": {},
   "outputs": [
    {
     "name": "stderr",
     "output_type": "stream",
     "text": [
      "C:\\Users\\jorda\\miniconda3\\envs\\jma-trans\\lib\\site-packages\\xgboost\\sklearn.py:1224: UserWarning: The use of label encoder in XGBClassifier is deprecated and will be removed in a future release. To remove this warning, do the following: 1) Pass option use_label_encoder=False when constructing XGBClassifier object; and 2) Encode your labels (y) as integers starting with 0, i.e. 0, 1, 2, ..., [num_class - 1].\n",
      "  warnings.warn(label_encoder_deprecation_msg, UserWarning)\n"
     ]
    },
    {
     "name": "stdout",
     "output_type": "stream",
     "text": [
      "[23:54:30] WARNING: C:/Users/Administrator/workspace/xgboost-win64_release_1.5.1/src/learner.cc:1115: Starting in XGBoost 1.3.0, the default evaluation metric used with the objective 'binary:logistic' was changed from 'error' to 'logloss'. Explicitly set eval_metric if you'd like to restore the old behavior.\n",
      "[23:55:01] WARNING: C:/Users/Administrator/workspace/xgboost-win64_release_1.5.1/src/learner.cc:576: \n",
      "Parameters: { \"max_iter\" } might not be used.\n",
      "\n",
      "  This could be a false alarm, with some parameters getting used by language bindings but\n",
      "  then being mistakenly passed down to XGBoost core, or some parameter actually being used\n",
      "  but getting flagged wrongly here. Please open an issue if you find any such cases.\n",
      "\n",
      "\n",
      "[23:55:02] WARNING: C:/Users/Administrator/workspace/xgboost-win64_release_1.5.1/src/learner.cc:1115: Starting in XGBoost 1.3.0, the default evaluation metric used with the objective 'binary:logistic' was changed from 'error' to 'logloss'. Explicitly set eval_metric if you'd like to restore the old behavior.\n"
     ]
    },
    {
     "name": "stderr",
     "output_type": "stream",
     "text": [
      "C:\\Users\\jorda\\miniconda3\\envs\\jma-trans\\lib\\site-packages\\xgboost\\sklearn.py:1224: UserWarning: The use of label encoder in XGBClassifier is deprecated and will be removed in a future release. To remove this warning, do the following: 1) Pass option use_label_encoder=False when constructing XGBClassifier object; and 2) Encode your labels (y) as integers starting with 0, i.e. 0, 1, 2, ..., [num_class - 1].\n",
      "  warnings.warn(label_encoder_deprecation_msg, UserWarning)\n"
     ]
    },
    {
     "name": "stdout",
     "output_type": "stream",
     "text": [
      "[23:55:35] WARNING: C:/Users/Administrator/workspace/xgboost-win64_release_1.5.1/src/learner.cc:1115: Starting in XGBoost 1.3.0, the default evaluation metric used with the objective 'binary:logistic' was changed from 'error' to 'logloss'. Explicitly set eval_metric if you'd like to restore the old behavior.\n",
      "[23:56:06] WARNING: C:/Users/Administrator/workspace/xgboost-win64_release_1.5.1/src/learner.cc:576: \n",
      "Parameters: { \"max_iter\" } might not be used.\n",
      "\n",
      "  This could be a false alarm, with some parameters getting used by language bindings but\n",
      "  then being mistakenly passed down to XGBoost core, or some parameter actually being used\n",
      "  but getting flagged wrongly here. Please open an issue if you find any such cases.\n",
      "\n",
      "\n",
      "[23:56:06] WARNING: C:/Users/Administrator/workspace/xgboost-win64_release_1.5.1/src/learner.cc:1115: Starting in XGBoost 1.3.0, the default evaluation metric used with the objective 'binary:logistic' was changed from 'error' to 'logloss'. Explicitly set eval_metric if you'd like to restore the old behavior.\n"
     ]
    },
    {
     "name": "stderr",
     "output_type": "stream",
     "text": [
      "C:\\Users\\jorda\\miniconda3\\envs\\jma-trans\\lib\\site-packages\\xgboost\\sklearn.py:1224: UserWarning: The use of label encoder in XGBClassifier is deprecated and will be removed in a future release. To remove this warning, do the following: 1) Pass option use_label_encoder=False when constructing XGBClassifier object; and 2) Encode your labels (y) as integers starting with 0, i.e. 0, 1, 2, ..., [num_class - 1].\n",
      "  warnings.warn(label_encoder_deprecation_msg, UserWarning)\n"
     ]
    },
    {
     "name": "stdout",
     "output_type": "stream",
     "text": [
      "[23:56:34] WARNING: C:/Users/Administrator/workspace/xgboost-win64_release_1.5.1/src/learner.cc:1115: Starting in XGBoost 1.3.0, the default evaluation metric used with the objective 'binary:logistic' was changed from 'error' to 'logloss'. Explicitly set eval_metric if you'd like to restore the old behavior.\n",
      "[23:56:56] WARNING: C:/Users/Administrator/workspace/xgboost-win64_release_1.5.1/src/learner.cc:576: \n",
      "Parameters: { \"max_iter\" } might not be used.\n",
      "\n",
      "  This could be a false alarm, with some parameters getting used by language bindings but\n",
      "  then being mistakenly passed down to XGBoost core, or some parameter actually being used\n",
      "  but getting flagged wrongly here. Please open an issue if you find any such cases.\n",
      "\n",
      "\n",
      "[23:56:56] WARNING: C:/Users/Administrator/workspace/xgboost-win64_release_1.5.1/src/learner.cc:1115: Starting in XGBoost 1.3.0, the default evaluation metric used with the objective 'binary:logistic' was changed from 'error' to 'logloss'. Explicitly set eval_metric if you'd like to restore the old behavior.\n"
     ]
    },
    {
     "name": "stderr",
     "output_type": "stream",
     "text": [
      "C:\\Users\\jorda\\miniconda3\\envs\\jma-trans\\lib\\site-packages\\xgboost\\sklearn.py:1224: UserWarning: The use of label encoder in XGBClassifier is deprecated and will be removed in a future release. To remove this warning, do the following: 1) Pass option use_label_encoder=False when constructing XGBClassifier object; and 2) Encode your labels (y) as integers starting with 0, i.e. 0, 1, 2, ..., [num_class - 1].\n",
      "  warnings.warn(label_encoder_deprecation_msg, UserWarning)\n"
     ]
    },
    {
     "name": "stdout",
     "output_type": "stream",
     "text": [
      "[23:57:18] WARNING: C:/Users/Administrator/workspace/xgboost-win64_release_1.5.1/src/learner.cc:1115: Starting in XGBoost 1.3.0, the default evaluation metric used with the objective 'binary:logistic' was changed from 'error' to 'logloss'. Explicitly set eval_metric if you'd like to restore the old behavior.\n",
      "[23:57:38] WARNING: C:/Users/Administrator/workspace/xgboost-win64_release_1.5.1/src/learner.cc:576: \n",
      "Parameters: { \"max_iter\" } might not be used.\n",
      "\n",
      "  This could be a false alarm, with some parameters getting used by language bindings but\n",
      "  then being mistakenly passed down to XGBoost core, or some parameter actually being used\n",
      "  but getting flagged wrongly here. Please open an issue if you find any such cases.\n",
      "\n",
      "\n",
      "[23:57:38] WARNING: C:/Users/Administrator/workspace/xgboost-win64_release_1.5.1/src/learner.cc:1115: Starting in XGBoost 1.3.0, the default evaluation metric used with the objective 'binary:logistic' was changed from 'error' to 'logloss'. Explicitly set eval_metric if you'd like to restore the old behavior.\n"
     ]
    },
    {
     "name": "stderr",
     "output_type": "stream",
     "text": [
      "C:\\Users\\jorda\\miniconda3\\envs\\jma-trans\\lib\\site-packages\\xgboost\\sklearn.py:1224: UserWarning: The use of label encoder in XGBClassifier is deprecated and will be removed in a future release. To remove this warning, do the following: 1) Pass option use_label_encoder=False when constructing XGBClassifier object; and 2) Encode your labels (y) as integers starting with 0, i.e. 0, 1, 2, ..., [num_class - 1].\n",
      "  warnings.warn(label_encoder_deprecation_msg, UserWarning)\n"
     ]
    },
    {
     "name": "stdout",
     "output_type": "stream",
     "text": [
      "[23:57:59] WARNING: C:/Users/Administrator/workspace/xgboost-win64_release_1.5.1/src/learner.cc:1115: Starting in XGBoost 1.3.0, the default evaluation metric used with the objective 'binary:logistic' was changed from 'error' to 'logloss'. Explicitly set eval_metric if you'd like to restore the old behavior.\n",
      "[23:58:19] WARNING: C:/Users/Administrator/workspace/xgboost-win64_release_1.5.1/src/learner.cc:576: \n",
      "Parameters: { \"max_iter\" } might not be used.\n",
      "\n",
      "  This could be a false alarm, with some parameters getting used by language bindings but\n",
      "  then being mistakenly passed down to XGBoost core, or some parameter actually being used\n",
      "  but getting flagged wrongly here. Please open an issue if you find any such cases.\n",
      "\n",
      "\n",
      "[23:58:19] WARNING: C:/Users/Administrator/workspace/xgboost-win64_release_1.5.1/src/learner.cc:1115: Starting in XGBoost 1.3.0, the default evaluation metric used with the objective 'binary:logistic' was changed from 'error' to 'logloss'. Explicitly set eval_metric if you'd like to restore the old behavior.\n"
     ]
    },
    {
     "name": "stderr",
     "output_type": "stream",
     "text": [
      "C:\\Users\\jorda\\miniconda3\\envs\\jma-trans\\lib\\site-packages\\xgboost\\sklearn.py:1224: UserWarning: The use of label encoder in XGBClassifier is deprecated and will be removed in a future release. To remove this warning, do the following: 1) Pass option use_label_encoder=False when constructing XGBClassifier object; and 2) Encode your labels (y) as integers starting with 0, i.e. 0, 1, 2, ..., [num_class - 1].\n",
      "  warnings.warn(label_encoder_deprecation_msg, UserWarning)\n"
     ]
    },
    {
     "name": "stdout",
     "output_type": "stream",
     "text": [
      "[23:58:40] WARNING: C:/Users/Administrator/workspace/xgboost-win64_release_1.5.1/src/learner.cc:1115: Starting in XGBoost 1.3.0, the default evaluation metric used with the objective 'binary:logistic' was changed from 'error' to 'logloss'. Explicitly set eval_metric if you'd like to restore the old behavior.\n",
      "[23:59:00] WARNING: C:/Users/Administrator/workspace/xgboost-win64_release_1.5.1/src/learner.cc:576: \n",
      "Parameters: { \"max_iter\" } might not be used.\n",
      "\n",
      "  This could be a false alarm, with some parameters getting used by language bindings but\n",
      "  then being mistakenly passed down to XGBoost core, or some parameter actually being used\n",
      "  but getting flagged wrongly here. Please open an issue if you find any such cases.\n",
      "\n",
      "\n",
      "[23:59:00] WARNING: C:/Users/Administrator/workspace/xgboost-win64_release_1.5.1/src/learner.cc:1115: Starting in XGBoost 1.3.0, the default evaluation metric used with the objective 'binary:logistic' was changed from 'error' to 'logloss'. Explicitly set eval_metric if you'd like to restore the old behavior.\n"
     ]
    },
    {
     "name": "stderr",
     "output_type": "stream",
     "text": [
      "C:\\Users\\jorda\\miniconda3\\envs\\jma-trans\\lib\\site-packages\\xgboost\\sklearn.py:1224: UserWarning: The use of label encoder in XGBClassifier is deprecated and will be removed in a future release. To remove this warning, do the following: 1) Pass option use_label_encoder=False when constructing XGBClassifier object; and 2) Encode your labels (y) as integers starting with 0, i.e. 0, 1, 2, ..., [num_class - 1].\n",
      "  warnings.warn(label_encoder_deprecation_msg, UserWarning)\n"
     ]
    },
    {
     "name": "stdout",
     "output_type": "stream",
     "text": [
      "[23:59:22] WARNING: C:/Users/Administrator/workspace/xgboost-win64_release_1.5.1/src/learner.cc:1115: Starting in XGBoost 1.3.0, the default evaluation metric used with the objective 'binary:logistic' was changed from 'error' to 'logloss'. Explicitly set eval_metric if you'd like to restore the old behavior.\n",
      "[23:59:41] WARNING: C:/Users/Administrator/workspace/xgboost-win64_release_1.5.1/src/learner.cc:576: \n",
      "Parameters: { \"max_iter\" } might not be used.\n",
      "\n",
      "  This could be a false alarm, with some parameters getting used by language bindings but\n",
      "  then being mistakenly passed down to XGBoost core, or some parameter actually being used\n",
      "  but getting flagged wrongly here. Please open an issue if you find any such cases.\n",
      "\n",
      "\n",
      "[23:59:41] WARNING: C:/Users/Administrator/workspace/xgboost-win64_release_1.5.1/src/learner.cc:1115: Starting in XGBoost 1.3.0, the default evaluation metric used with the objective 'binary:logistic' was changed from 'error' to 'logloss'. Explicitly set eval_metric if you'd like to restore the old behavior.\n"
     ]
    },
    {
     "name": "stderr",
     "output_type": "stream",
     "text": [
      "C:\\Users\\jorda\\miniconda3\\envs\\jma-trans\\lib\\site-packages\\xgboost\\sklearn.py:1224: UserWarning: The use of label encoder in XGBClassifier is deprecated and will be removed in a future release. To remove this warning, do the following: 1) Pass option use_label_encoder=False when constructing XGBClassifier object; and 2) Encode your labels (y) as integers starting with 0, i.e. 0, 1, 2, ..., [num_class - 1].\n",
      "  warnings.warn(label_encoder_deprecation_msg, UserWarning)\n"
     ]
    },
    {
     "name": "stdout",
     "output_type": "stream",
     "text": [
      "[00:00:03] WARNING: C:/Users/Administrator/workspace/xgboost-win64_release_1.5.1/src/learner.cc:1115: Starting in XGBoost 1.3.0, the default evaluation metric used with the objective 'binary:logistic' was changed from 'error' to 'logloss'. Explicitly set eval_metric if you'd like to restore the old behavior.\n",
      "[00:00:22] WARNING: C:/Users/Administrator/workspace/xgboost-win64_release_1.5.1/src/learner.cc:576: \n",
      "Parameters: { \"max_iter\" } might not be used.\n",
      "\n",
      "  This could be a false alarm, with some parameters getting used by language bindings but\n",
      "  then being mistakenly passed down to XGBoost core, or some parameter actually being used\n",
      "  but getting flagged wrongly here. Please open an issue if you find any such cases.\n",
      "\n",
      "\n",
      "[00:00:22] WARNING: C:/Users/Administrator/workspace/xgboost-win64_release_1.5.1/src/learner.cc:1115: Starting in XGBoost 1.3.0, the default evaluation metric used with the objective 'binary:logistic' was changed from 'error' to 'logloss'. Explicitly set eval_metric if you'd like to restore the old behavior.\n"
     ]
    },
    {
     "name": "stderr",
     "output_type": "stream",
     "text": [
      "C:\\Users\\jorda\\miniconda3\\envs\\jma-trans\\lib\\site-packages\\xgboost\\sklearn.py:1224: UserWarning: The use of label encoder in XGBClassifier is deprecated and will be removed in a future release. To remove this warning, do the following: 1) Pass option use_label_encoder=False when constructing XGBClassifier object; and 2) Encode your labels (y) as integers starting with 0, i.e. 0, 1, 2, ..., [num_class - 1].\n",
      "  warnings.warn(label_encoder_deprecation_msg, UserWarning)\n"
     ]
    },
    {
     "name": "stdout",
     "output_type": "stream",
     "text": [
      "[00:00:44] WARNING: C:/Users/Administrator/workspace/xgboost-win64_release_1.5.1/src/learner.cc:1115: Starting in XGBoost 1.3.0, the default evaluation metric used with the objective 'binary:logistic' was changed from 'error' to 'logloss'. Explicitly set eval_metric if you'd like to restore the old behavior.\n",
      "[00:01:04] WARNING: C:/Users/Administrator/workspace/xgboost-win64_release_1.5.1/src/learner.cc:576: \n",
      "Parameters: { \"max_iter\" } might not be used.\n",
      "\n",
      "  This could be a false alarm, with some parameters getting used by language bindings but\n",
      "  then being mistakenly passed down to XGBoost core, or some parameter actually being used\n",
      "  but getting flagged wrongly here. Please open an issue if you find any such cases.\n",
      "\n",
      "\n",
      "[00:01:05] WARNING: C:/Users/Administrator/workspace/xgboost-win64_release_1.5.1/src/learner.cc:1115: Starting in XGBoost 1.3.0, the default evaluation metric used with the objective 'binary:logistic' was changed from 'error' to 'logloss'. Explicitly set eval_metric if you'd like to restore the old behavior.\n"
     ]
    },
    {
     "name": "stderr",
     "output_type": "stream",
     "text": [
      "C:\\Users\\jorda\\miniconda3\\envs\\jma-trans\\lib\\site-packages\\xgboost\\sklearn.py:1224: UserWarning: The use of label encoder in XGBClassifier is deprecated and will be removed in a future release. To remove this warning, do the following: 1) Pass option use_label_encoder=False when constructing XGBClassifier object; and 2) Encode your labels (y) as integers starting with 0, i.e. 0, 1, 2, ..., [num_class - 1].\n",
      "  warnings.warn(label_encoder_deprecation_msg, UserWarning)\n"
     ]
    },
    {
     "name": "stdout",
     "output_type": "stream",
     "text": [
      "[00:01:30] WARNING: C:/Users/Administrator/workspace/xgboost-win64_release_1.5.1/src/learner.cc:1115: Starting in XGBoost 1.3.0, the default evaluation metric used with the objective 'binary:logistic' was changed from 'error' to 'logloss'. Explicitly set eval_metric if you'd like to restore the old behavior.\n",
      "[00:01:54] WARNING: C:/Users/Administrator/workspace/xgboost-win64_release_1.5.1/src/learner.cc:576: \n",
      "Parameters: { \"max_iter\" } might not be used.\n",
      "\n",
      "  This could be a false alarm, with some parameters getting used by language bindings but\n",
      "  then being mistakenly passed down to XGBoost core, or some parameter actually being used\n",
      "  but getting flagged wrongly here. Please open an issue if you find any such cases.\n",
      "\n",
      "\n",
      "[00:01:54] WARNING: C:/Users/Administrator/workspace/xgboost-win64_release_1.5.1/src/learner.cc:1115: Starting in XGBoost 1.3.0, the default evaluation metric used with the objective 'binary:logistic' was changed from 'error' to 'logloss'. Explicitly set eval_metric if you'd like to restore the old behavior.\n",
      "Trans - Combined (XGBoost)\n",
      "P-value = nan\n",
      "t-statistic = nan\n"
     ]
    },
    {
     "name": "stderr",
     "output_type": "stream",
     "text": [
      "C:\\Users\\jorda\\miniconda3\\envs\\jma-trans\\lib\\site-packages\\mlxtend\\evaluate\\ttest.py:333: RuntimeWarning: invalid value encountered in double_scalars\n",
      "  t_stat = numerator / denominator\n"
     ]
    }
   ],
   "source": [
    "t6, p6 = paired_ttest_5x2cv(xgb_trans, xgb, X_, y_, 'accuracy')\n",
    "print('Trans - Combined (XGBoost)')\n",
    "print(f'P-value = {p6:.3f}')\n",
    "print(f't-statistic = {t6:.3f}')\n",
    "if p6 <= 0.05:\n",
    "    print('Since p < 0.05, we can reject the null hypothesis that both models perform equally well on this dataset. We may conclude that the two algorithms are significantly different.')\n",
    "elif p6 > 0.05:\n",
    "    print('Since p > 0.05, we cannot reject the null hypothesis and may conclude that the performance of the two algorithms is not significantly different.')\n",
    "else:\n",
    "    pass"
   ]
  }
 ],
 "metadata": {
  "kernelspec": {
   "display_name": "jma-trans",
   "language": "python",
   "name": "jma-trans"
  },
  "language_info": {
   "codemirror_mode": {
    "name": "ipython",
    "version": 3
   },
   "file_extension": ".py",
   "mimetype": "text/x-python",
   "name": "python",
   "nbconvert_exporter": "python",
   "pygments_lexer": "ipython3",
   "version": "3.7.0"
  }
 },
 "nbformat": 4,
 "nbformat_minor": 5
}
